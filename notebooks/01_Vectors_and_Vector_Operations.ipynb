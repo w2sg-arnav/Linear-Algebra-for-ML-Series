{
 "cells": [
  {
   "cell_type": "markdown",
   "id": "8428d4a4",
   "metadata": {},
   "source": [
    "# Vectors and Vector Operations in Machine Learning\n",
    "\n",
    "Welcome to the first notebook in our Linear Algebra for Machine Learning series! In this tutorial, we'll explore vectors and fundamental vector operations that are essential for understanding machine learning concepts.\n",
    "\n",
    "## Topics Covered\n",
    "1. Understanding Vectors\n",
    "2. Vector Operations\n",
    "3. Vector Properties\n",
    "4. Practical Applications in ML"
   ]
  },
  {
   "cell_type": "markdown",
   "id": "2bb89a7c",
   "metadata": {},
   "source": [
    "## 1. Required Libraries\n",
    "\n",
    "Let's start by importing the necessary libraries for our tutorial."
   ]
  },
  {
   "cell_type": "code",
   "execution_count": null,
   "id": "307cf230",
   "metadata": {},
   "outputs": [],
   "source": [
    "import numpy as np\n",
    "import matplotlib.pyplot as plt\n",
    "\n",
    "# For better looking plots\n",
    "plt.style.use('seaborn')\n",
    "%matplotlib inline"
   ]
  },
  {
   "cell_type": "markdown",
   "id": "ff98813e",
   "metadata": {},
   "source": [
    "## 2. Understanding Vectors\n",
    "\n",
    "A vector is an ordered list of numbers. In machine learning, vectors are used to represent:\n",
    "- Features of data points\n",
    "- Weights in neural networks\n",
    "- Directions in high-dimensional spaces\n",
    "\n",
    "Let's create some example vectors:"
   ]
  },
  {
   "cell_type": "code",
   "execution_count": null,
   "id": "135ccce0",
   "metadata": {},
   "outputs": [],
   "source": [
    "# Creating vectors using NumPy\n",
    "v1 = np.array([1, 2, 3])\n",
    "v2 = np.array([4, 5, 6])\n",
    "\n",
    "print(\"Vector 1:\", v1)\n",
    "print(\"Vector 2:\", v2)\n",
    "print(\"\\nShape of vector 1:\", v1.shape)"
   ]
  },
  {
   "cell_type": "markdown",
   "id": "1d8a699b",
   "metadata": {},
   "source": [
    "## 3. Vector Operations\n",
    "\n",
    "### 3.1 Vector Addition and Subtraction"
   ]
  },
  {
   "cell_type": "code",
   "execution_count": null,
   "id": "fb3bee67",
   "metadata": {},
   "outputs": [],
   "source": [
    "# Addition\n",
    "addition = v1 + v2\n",
    "print(\"Vector addition:\", addition)\n",
    "\n",
    "# Subtraction\n",
    "subtraction = v2 - v1\n",
    "print(\"Vector subtraction:\", subtraction)"
   ]
  },
  {
   "cell_type": "markdown",
   "id": "f25b15a4",
   "metadata": {},
   "source": [
    "### 3.2 Scalar Multiplication"
   ]
  },
  {
   "cell_type": "code",
   "execution_count": null,
   "id": "cc54db72",
   "metadata": {},
   "outputs": [],
   "source": [
    "# Scalar multiplication\n",
    "scalar = 2\n",
    "scalar_mult = scalar * v1\n",
    "print(f\"Vector {v1} multiplied by scalar {scalar}:\")\n",
    "print(scalar_mult)"
   ]
  },
  {
   "cell_type": "markdown",
   "id": "da7f4771",
   "metadata": {},
   "source": [
    "### 3.3 Dot Product\n",
    "\n",
    "The dot product is one of the most important operations in machine learning, used in:\n",
    "- Computing similarity between vectors\n",
    "- Neural network operations\n",
    "- Feature projections"
   ]
  },
  {
   "cell_type": "code",
   "execution_count": null,
   "id": "38f3ddd3",
   "metadata": {},
   "outputs": [],
   "source": [
    "# Dot product\n",
    "dot_product = np.dot(v1, v2)\n",
    "print(\"Dot product:\", dot_product)\n",
    "\n",
    "# Alternative way using @\n",
    "dot_product_alt = v1 @ v2\n",
    "print(\"Dot product (using @):\", dot_product_alt)"
   ]
  },
  {
   "cell_type": "markdown",
   "id": "df3d24b0",
   "metadata": {},
   "source": [
    "### 3.4 Vector Magnitude (Norm)"
   ]
  },
  {
   "cell_type": "code",
   "execution_count": null,
   "id": "586cbaca",
   "metadata": {},
   "outputs": [],
   "source": [
    "# Computing vector magnitude\n",
    "magnitude_v1 = np.linalg.norm(v1)\n",
    "magnitude_v2 = np.linalg.norm(v2)\n",
    "\n",
    "print(f\"Magnitude of vector {v1}:\", magnitude_v1)\n",
    "print(f\"Magnitude of vector {v2}:\", magnitude_v2)"
   ]
  },
  {
   "cell_type": "markdown",
   "id": "1472501b",
   "metadata": {},
   "source": [
    "## 4. Visualization\n",
    "\n",
    "Let's visualize 2D vectors to better understand vector operations."
   ]
  },
  {
   "cell_type": "code",
   "execution_count": null,
   "id": "68de227f",
   "metadata": {},
   "outputs": [],
   "source": [
    "def plot_vectors(vectors, colors, title):\n",
    "    plt.figure(figsize=(10, 6))\n",
    "    plt.axhline(y=0, color='k', linestyle='-', alpha=0.3)\n",
    "    plt.axvline(x=0, color='k', linestyle='-', alpha=0.3)\n",
    "    \n",
    "    for vector, color in zip(vectors, colors):\n",
    "        plt.quiver(0, 0, vector[0], vector[1], \n",
    "                   angles='xy', scale_units='xy', scale=1,\n",
    "                   color=color, label=f'Vector {color}')\n",
    "    \n",
    "    plt.xlim(-2, 6)\n",
    "    plt.ylim(-2, 6)\n",
    "    plt.grid(True, alpha=0.3)\n",
    "    plt.title(title)\n",
    "    plt.legend()\n",
    "    plt.axis('equal')\n",
    "    plt.show()\n",
    "\n",
    "# Create 2D vectors\n",
    "v1_2d = np.array([1, 2])\n",
    "v2_2d = np.array([3, 4])\n",
    "\n",
    "# Plot original vectors\n",
    "plot_vectors([v1_2d, v2_2d], ['blue', 'red'], 'Two 2D Vectors')\n",
    "\n",
    "# Plot vector addition\n",
    "plot_vectors([v1_2d, v2_2d, v1_2d + v2_2d], \n",
    "            ['blue', 'red', 'green'], \n",
    "            'Vector Addition')"
   ]
  },
  {
   "cell_type": "markdown",
   "id": "f873a739",
   "metadata": {},
   "source": [
    "## 5. Practice Exercises\n",
    "\n",
    "1. Create a vector with values [2, 4, 6, 8] and compute its magnitude\n",
    "2. Create two vectors and compute their dot product\n",
    "3. Normalize a vector (hint: divide by its magnitude)\n",
    "\n",
    "Try solving these exercises below!"
   ]
  },
  {
   "cell_type": "code",
   "execution_count": null,
   "id": "cda3d38f",
   "metadata": {},
   "outputs": [],
   "source": [
    "# Your solution here\n"
   ]
  }
 ],
 "metadata": {
  "language_info": {
   "name": "python"
  }
 },
 "nbformat": 4,
 "nbformat_minor": 5
}
