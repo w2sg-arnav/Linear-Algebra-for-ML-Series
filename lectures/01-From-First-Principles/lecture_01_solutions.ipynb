{
 "cells": [
  {
   "cell_type": "markdown",
   "id": "b95015e9",
   "metadata": {},
   "source": [
    "# Lecture 1: Solutions to Exercises\n",
    "\n",
    "This notebook contains solutions to the exercises from Lecture 1."
   ]
  },
  {
   "cell_type": "code",
   "execution_count": null,
   "id": "02df76aa",
   "metadata": {},
   "outputs": [],
   "source": [
    "import numpy as np\n",
    "import matplotlib.pyplot as plt\n",
    "%matplotlib inline\n",
    "\n",
    "plt.style.use('seaborn-darkgrid')"
   ]
  },
  {
   "cell_type": "markdown",
   "id": "4f1b7de5",
   "metadata": {},
   "source": [
    "## Exercise 1: Calculate Angle Between Vectors\n",
    "\n",
    "We'll implement this both from scratch and using NumPy."
   ]
  },
  {
   "cell_type": "code",
   "execution_count": null,
   "id": "b63670f8",
   "metadata": {},
   "outputs": [],
   "source": [
    "def vector_angle(v1, v2):\n",
    "    \"\"\"Calculate angle between two vectors in radians\"\"\"\n",
    "    dot_product = v1.dot(v2)\n",
    "    magnitudes = v1.magnitude() * v2.magnitude()\n",
    "    cos_theta = dot_product / magnitudes\n",
    "    # Handle numerical errors that might make |cos_theta| slightly > 1\n",
    "    cos_theta = np.clip(cos_theta, -1.0, 1.0)\n",
    "    return np.arccos(cos_theta)\n",
    "\n",
    "# Example usage\n",
    "v1 = Vector([1, 0])\n",
    "v2 = Vector([1, 1])\n",
    "angle = vector_angle(v1, v2)\n",
    "print(f\"Angle between vectors: {np.degrees(angle):.2f} degrees\")\n",
    "\n",
    "# Visualize\n",
    "plot_vector_2d([v1, v2], colors=['b', 'r'], labels=['v1', 'v2'])"
   ]
  },
  {
   "cell_type": "markdown",
   "id": "0fe7c31f",
   "metadata": {},
   "source": [
    "## Exercise 2: Linear Independence Visualization"
   ]
  },
  {
   "cell_type": "code",
   "execution_count": null,
   "id": "5258f975",
   "metadata": {},
   "outputs": [],
   "source": [
    "def plot_linear_independence(vectors, title):\n",
    "    \"\"\"Plot vectors and their linear combinations\"\"\"\n",
    "    fig, ax = plt.subplots(figsize=(10, 10))\n",
    "    \n",
    "    # Plot original vectors\n",
    "    colors = ['r', 'b', 'g']\n",
    "    for v, c in zip(vectors, colors):\n",
    "        ax.quiver(0, 0, v[0], v[1], angles='xy', scale_units='xy', scale=1, color=c)\n",
    "    \n",
    "    # Plot linear combinations\n",
    "    x = np.linspace(-2, 2, 20)\n",
    "    y = np.linspace(-2, 2, 20)\n",
    "    X, Y = np.meshgrid(x, y)\n",
    "    \n",
    "    if len(vectors) == 2:\n",
    "        points = np.column_stack((X.flatten(), Y.flatten()))\n",
    "        span = points.dot(vectors)\n",
    "        ax.scatter(span[:, 0], span[:, 1], c='gray', alpha=0.1, s=1)\n",
    "    \n",
    "    ax.axhline(y=0, color='k', linestyle='-', alpha=0.3)\n",
    "    ax.axvline(x=0, color='k', linestyle='-', alpha=0.3)\n",
    "    ax.set_aspect('equal')\n",
    "    ax.grid(True)\n",
    "    plt.title(title)\n",
    "    plt.show()\n",
    "\n",
    "# Example: Linearly independent vectors\n",
    "v1 = np.array([1, 0])\n",
    "v2 = np.array([0, 1])\n",
    "plot_linear_independence([v1, v2], \"Linearly Independent Vectors\")\n",
    "\n",
    "# Example: Linearly dependent vectors\n",
    "v1 = np.array([1, 1])\n",
    "v2 = np.array([2, 2])\n",
    "plot_linear_independence([v1, v2], \"Linearly Dependent Vectors\")"
   ]
  },
  {
   "cell_type": "markdown",
   "id": "0a8fa633",
   "metadata": {},
   "source": [
    "## Exercise 3: Vector Projection"
   ]
  },
  {
   "cell_type": "code",
   "execution_count": null,
   "id": "d8601415",
   "metadata": {},
   "outputs": [],
   "source": [
    "def vector_projection(v, u):\n",
    "    \"\"\"Project vector v onto vector u\"\"\"\n",
    "    # Calculate the scalar projection (dot product divided by magnitude of u)\n",
    "    scalar_proj = v.dot(u) / u.magnitude()**2\n",
    "    # Multiply u by the scalar projection to get the vector projection\n",
    "    return u * scalar_proj\n",
    "\n",
    "# Example\n",
    "v = Vector([3, 2])\n",
    "u = Vector([1, 0])\n",
    "proj = vector_projection(v, u)\n",
    "\n",
    "# Visualize\n",
    "plot_vector_2d([v, u, proj], \n",
    "               colors=['b', 'r', 'g'],\n",
    "               labels=['v', 'u', 'proj_u(v)'])"
   ]
  },
  {
   "cell_type": "markdown",
   "id": "32328a42",
   "metadata": {},
   "source": [
    "## Exercise 4: Text Feature Extraction"
   ]
  },
  {
   "cell_type": "code",
   "execution_count": null,
   "id": "0721e3fb",
   "metadata": {},
   "outputs": [],
   "source": [
    "def text_to_vector(text, vocab=None):\n",
    "    \"\"\"Convert text to a bag-of-words vector\"\"\"\n",
    "    # Tokenize (simple version)\n",
    "    words = text.lower().split()\n",
    "    \n",
    "    # Create vocabulary if not provided\n",
    "    if vocab is None:\n",
    "        vocab = sorted(set(words))\n",
    "    \n",
    "    # Create vector\n",
    "    vector = [words.count(word) for word in vocab]\n",
    "    return Vector(vector), vocab\n",
    "\n",
    "# Example usage\n",
    "text1 = \"linear algebra is the foundation of machine learning\"\n",
    "text2 = \"machine learning uses linear algebra concepts\"\n",
    "\n",
    "# Convert first text and get vocabulary\n",
    "vec1, vocab = text_to_vector(text1)\n",
    "# Convert second text using same vocabulary\n",
    "vec2, _ = text_to_vector(text2, vocab)\n",
    "\n",
    "print(\"Vocabulary:\", vocab)\n",
    "print(\"Vector 1:\", vec1)\n",
    "print(\"Vector 2:\", vec2)\n",
    "print(\"Cosine similarity:\", vec1.dot(vec2) / (vec1.magnitude() * vec2.magnitude()))"
   ]
  }
 ],
 "metadata": {
  "language_info": {
   "name": "python"
  }
 },
 "nbformat": 4,
 "nbformat_minor": 5
}
