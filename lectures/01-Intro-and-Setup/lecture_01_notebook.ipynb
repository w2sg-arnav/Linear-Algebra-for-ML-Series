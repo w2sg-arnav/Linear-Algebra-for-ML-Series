{
 "cells": [
  {
   "cell_type": "markdown",
   "id": "543adb69",
   "metadata": {},
   "source": [
    "# What is Linear Algebra & Why it Matters for ML?\n",
    "\n",
    "[![Watch the Video](https://img.shields.io/badge/Watch%20the%20Video-FF0000?style=for-the-badge&logo=youtube&logoColor=white)](https://youtube.com/your-video-link)\n",
    "\n",
    "Welcome to the first lecture in our comprehensive series on Linear Algebra for Machine Learning! In this notebook, we'll explore why linear algebra is the foundation of machine learning and how it helps us think about data in powerful ways.\n",
    "\n",
    "## 🎯 In this lecture, you'll learn:\n",
    "1. Why linear algebra is crucial for ML\n",
    "2. How data is represented using vectors and matrices\n",
    "3. Real-world applications in machine learning\n",
    "4. Basic terminology and concepts"
   ]
  },
  {
   "cell_type": "markdown",
   "id": "374cb171",
   "metadata": {},
   "source": [
    "## 1. Setting Up Our Environment\n",
    "\n",
    "First, let's import the libraries we'll use throughout this series:"
   ]
  },
  {
   "cell_type": "code",
   "execution_count": null,
   "id": "10db35ca",
   "metadata": {},
   "outputs": [],
   "source": [
    "import numpy as np\n",
    "import matplotlib.pyplot as plt\n",
    "import seaborn as sns\n",
    "\n",
    "# Set plot style\n",
    "plt.style.use('seaborn')\n",
    "%matplotlib inline"
   ]
  },
  {
   "cell_type": "markdown",
   "id": "a1cd7c81",
   "metadata": {},
   "source": [
    "## 2. Why Linear Algebra Matters in Machine Learning\n",
    "\n",
    "Linear algebra is the language of machine learning. Here's why:\n",
    "\n",
    "1. **Data Representation**\n",
    "   - Features as vectors\n",
    "   - Datasets as matrices\n",
    "   - Images as tensors\n",
    "\n",
    "2. **Algorithm Operations**\n",
    "   - Neural network layers\n",
    "   - Distance calculations\n",
    "   - Dimensionality reduction\n",
    "\n",
    "Let's see some examples!"
   ]
  },
  {
   "cell_type": "code",
   "execution_count": null,
   "id": "227ee0f6",
   "metadata": {},
   "outputs": [],
   "source": [
    "# Example 1: Representing a data point\n",
    "# Each feature is one dimension in our vector\n",
    "house_features = np.array([1500,  # Square footage\n",
    "                          3,      # Bedrooms\n",
    "                          2,      # Bathrooms\n",
    "                          1990])  # Year built\n",
    "\n",
    "print(\"House features as a vector:\", house_features)\n",
    "print(\"Vector shape:\", house_features.shape)"
   ]
  },
  {
   "cell_type": "markdown",
   "id": "866b1eea",
   "metadata": {},
   "source": [
    "### 2.1 From Single Points to Datasets\n",
    "\n",
    "In machine learning, we typically work with many data points. This is where matrices come in!"
   ]
  },
  {
   "cell_type": "code",
   "execution_count": null,
   "id": "562049b8",
   "metadata": {},
   "outputs": [],
   "source": [
    "# Example 2: Multiple houses as a matrix\n",
    "houses_dataset = np.array([\n",
    "    [1500, 3, 2, 1990],  # House 1\n",
    "    [2000, 4, 3, 2000],  # House 2\n",
    "    [1200, 2, 1, 1975],  # House 3\n",
    "    [1800, 3, 2, 1985]   # House 4\n",
    "])\n",
    "\n",
    "print(\"Houses dataset as a matrix:\")\n",
    "print(houses_dataset)\n",
    "print(\"\\nMatrix shape:\", houses_dataset.shape)"
   ]
  },
  {
   "cell_type": "markdown",
   "id": "d4ff665d",
   "metadata": {},
   "source": [
    "## 3. Visual Example: Linear Algebra in Image Processing\n",
    "\n",
    "Images are naturally represented as matrices where each element represents a pixel value."
   ]
  },
  {
   "cell_type": "code",
   "execution_count": null,
   "id": "c5fb1c7e",
   "metadata": {},
   "outputs": [],
   "source": [
    "# Create a simple 8x8 grayscale image\n",
    "simple_image = np.zeros((8, 8))\n",
    "simple_image[2:6, 2:6] = 1  # Create a white square in the middle\n",
    "\n",
    "plt.figure(figsize=(10, 4))\n",
    "\n",
    "# Show the image\n",
    "plt.subplot(121)\n",
    "plt.imshow(simple_image, cmap='gray')\n",
    "plt.title('Simple 8x8 Image')\n",
    "\n",
    "# Show the matrix values\n",
    "plt.subplot(122)\n",
    "sns.heatmap(simple_image, annot=True, fmt='.1f', cmap='gray')\n",
    "plt.title('Image as a Matrix')\n",
    "\n",
    "plt.tight_layout()\n",
    "plt.show()"
   ]
  },
  {
   "cell_type": "markdown",
   "id": "19291d64",
   "metadata": {},
   "source": [
    "## 4. Key Terminology\n",
    "\n",
    "Let's introduce some key terms we'll use throughout the series:\n",
    "\n",
    "- **Vector**: An ordered list of numbers (like our house features)\n",
    "- **Matrix**: A 2D array of numbers (like our houses dataset)\n",
    "- **Dimension**: The number of components in a vector or the size of a matrix\n",
    "- **Scalar**: A single number\n",
    "\n",
    "We'll expand on these concepts in the upcoming lectures!"
   ]
  },
  {
   "cell_type": "markdown",
   "id": "8ecfde7f",
   "metadata": {},
   "source": [
    "## 5. Practice Exercises\n",
    "\n",
    "Let's solidify our understanding with some exercises. Try these on your own:\n",
    "\n",
    "1. Create a vector representing a student's grades in 5 subjects\n",
    "2. Create a matrix representing 3 students' grades in those 5 subjects\n",
    "3. Calculate the average grade for each student (hint: use `np.mean()`)\n",
    "\n",
    "Write your solutions below:"
   ]
  },
  {
   "cell_type": "code",
   "execution_count": null,
   "id": "b41e6bf3",
   "metadata": {},
   "outputs": [],
   "source": [
    "# Your solution here!\n"
   ]
  },
  {
   "cell_type": "markdown",
   "id": "2815f9a1",
   "metadata": {},
   "source": [
    "## Next Steps\n",
    "\n",
    "In the next lecture, we'll dive deep into vectors and learn how to perform various operations with them. We'll see how these operations form the foundation of many machine learning algorithms.\n",
    "\n",
    "Don't forget to:\n",
    "1. Try the practice exercises\n",
    "2. Check the solutions in `lecture_01_solutions.ipynb`\n",
    "3. Watch the video lecture if you haven't already!"
   ]
  }
 ],
 "metadata": {
  "language_info": {
   "name": "python"
  }
 },
 "nbformat": 4,
 "nbformat_minor": 5
}
