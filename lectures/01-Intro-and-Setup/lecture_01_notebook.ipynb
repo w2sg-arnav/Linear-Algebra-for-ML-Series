{
 "cells": [
  {
   "cell_type": "markdown",
   "metadata": {},
   "source": [
    "# Lecture 1: The Ultimate Guide to Representing Data (A NumPy Masterclass)\n",
    "\n",
    "Welcome to the first lecture and notebook for the series on Linear Algebra for Machine Learning! In this session, we'll build the entire foundation for our journey. We'll cover:\n",
    "\n",
    "1.  **The \"Why\":** A tour of real-world machine learning problems to see how data is represented.\n",
    "2.  **The \"What\":** Formal definitions of the core data containers: Scalars, Vectors, Matrices, and Tensors.\n",
    "3.  **The \"How\":** A practical, hands-on masterclass in NumPy to create, inspect, and manipulate these objects."
   ]
  },
  {
   "cell_type": "markdown",
   "metadata": {},
   "source": [
    "## Setup\n",
    "\n",
    "First, let's import NumPy and our visualization libraries."
   ]
  },
  {
   "cell_type": "code",
   "execution_count": null,
   "metadata": {},
   "outputs": [],
   "source": [
    "import numpy as np\n",
    "import matplotlib.pyplot as plt\n",
    "\n",
    "# Set plot style for better visuals\n",
    "plt.style.use('seaborn-v0_8-whitegrid')\n",
    "%matplotlib inline"
   ]
  },
  {
   "cell_type": "markdown",
   "metadata": {},
   "source": [
    "---"
   ]
  },
  {
   "cell_type": "markdown",
   "metadata": {},
   "source": [
    "## Part 1: Why Linear Algebra? The Language of Data\n",
    "\n",
    "Machine learning models can only process numbers. We use linear algebra to represent real-world data in a structured, numerical format.\n",
    "\n",
    "### The Tour of Data Representation"
   ]
  },
  {
   "cell_type": "code",
   "execution_count": null,
   "metadata": {},
   "outputs": [],
   "source": [
    "# Example 1: Tabular Data (A single house as a vector)\n",
    "house_features = np.array([\n",
    "    1500,  # Square footage\n",
    "    3,     # Number of bedrooms\n",
    "    2,     # Number of bathrooms\n",
    "    1990   # Year built\n",
    "])\n",
    "\n",
    "print(f\"House features as a vector:\\n{house_features}\")\n",
    "print(f\"Vector shape: {house_features.shape}\")"
   ]
  },
  {
   "cell_type": "code",
   "execution_count": null,
   "metadata": {},
   "outputs": [],
   "source": [
    "# Example 2: A dataset of multiple houses (a matrix)\n",
    "houses_dataset = np.array([\n",
    "    [1500, 3, 2, 1990],  # House 1\n",
    "    [2000, 4, 3, 2000],  # House 2\n",
    "    [1200, 2, 1, 1975]   # House 3\n",
    "])\n",
    "\n",
    "print(f\"Houses dataset as a matrix:\\n{houses_dataset}\")\n",
    "print(f\"\\nMatrix shape: {houses_dataset.shape}\")"
   ]
  },
  {
   "cell_type": "markdown",
   "metadata": {},
   "source": [
    "### Visual Example: Images as Tensors\n",
    "A color image is a 3D tensor, where the dimensions represent height, width, and color channels (Red, Green, Blue)."
   ]
  },
  {
   "cell_type": "code",
   "execution_count": null,
   "metadata": {},
   "outputs": [],
   "source": [
    "# Create a simple 10x10 color image (3D Tensor)\n",
    "color_image = np.zeros((10, 10, 3), dtype=np.uint8)\n",
    "\n",
    "# Make the top-left quadrant red\n",
    "color_image[0:5, 0:5] = [255, 0, 0]  # Red\n",
    "\n",
    "# Make the bottom-right quadrant blue\n",
    "color_image[5:10, 5:10] = [0, 0, 255] # Blue\n",
    "\n",
    "print(f\"Image Tensor Shape: {color_image.shape}\")\n",
    "\n",
    "plt.imshow(color_image)\n",
    "plt.title('10x10 Color Image as a 3D Tensor')\n",
    "plt.show()"
   ]
  },
  {
   "cell_type": "markdown",
   "metadata": {},
   "source": [
    "---"
   ]
  },
  {
   "cell_type": "markdown",
   "metadata": {},
   "source": [
    "## Part 2: The NumPy Masterclass\n",
    "\n",
    "Now we'll dive deep into the essential NumPy operations for creating and manipulating these data structures."
   ]
  },
  {
   "cell_type": "markdown",
   "metadata": {},
   "source": [
    "### 2.1 Creating Arrays & Inspecting Attributes"
   ]
  },
  {
   "cell_type": "code",
   "execution_count": null,
   "metadata": {},
   "outputs": [],
   "source": [
    "M = np.array([\n",
    "    [4, 1800, 25],\n",
    "    [3, 1500, 40]\n",
    "])\n",
    "\n",
    "print(f\"Matrix:\\n{M}\")\n",
    "print(f\"Shape (rows, columns): {M.shape}\")\n",
    "print(f\"Number of dimensions: {M.ndim}\")\n",
    "print(f\"Size (total elements): {M.size}\")\n",
    "print(f\"Data type: {M.dtype}\")"
   ]
  },
  {
   "cell_type": "markdown",
   "metadata": {},
   "source": [
    "### 2.2 Array Creation Routines"
   ]
  },
  {
   "cell_type": "code",
   "execution_count": null,
   "metadata": {},
   "outputs": [],
   "source": [
    "print(\"np.zeros:\")\n",
    "print(np.zeros((2, 3)))\n",
    "\n",
    "print(\"\\nnp.ones:\")\n",
    "print(np.ones(4))\n",
    "\n",
    "print(\"\\nnp.arange:\")\n",
    "print(np.arange(5, 15, 2))\n",
    "\n",
    "print(\"\\nnp.linspace:\")\n",
    "print(np.linspace(0, 10, 5))\n",
    "\n",
    "print(\"\\nnp.random.randint (a 3x3 matrix of integers from 1 to 10):\")\n",
    "print(np.random.randint(1, 11, size=(3, 3)))"
   ]
  },
  {
   "cell_type": "markdown",
   "metadata": {},
   "source": [
    "### 2.3 The Most Important Skill: Indexing and Slicing"
   ]
  },
  {
   "cell_type": "code",
   "execution_count": null,
   "metadata": {},
   "outputs": [],
   "source": [
    "M = np.random.randint(10, 100, size=(5, 5))\n",
    "print(f\"Original 5x5 Matrix:\\n{M}\")\n",
    "\n",
    "print(f\"\\nElement at row 0, col 1: {M[0, 1]}\")\n",
    "\n",
    "print(f\"\\nSecond row (index 1): {M[1, :]}\")\n",
    "\n",
    "print(f\"\\nThird column (index 2): {M[:, 2]}\")\n",
    "\n",
    "print(f\"\\nTop-right 2x2 sub-grid:\\n{M[0:2, 3:5]}\")"
   ]
  },
  {
   "cell_type": "markdown",
   "metadata": {},
   "source": [
    "**Boolean Indexing**"
   ]
  },
  {
   "cell_type": "code",
   "execution_count": null,
   "metadata": {},
   "outputs": [],
   "source": [
    "print(f\"Original Matrix:\\n{M}\")\n",
    "\n",
    "# Find all values in the matrix greater than 50\n",
    "mask = M > 50\n",
    "print(f\"\\nBoolean Mask (M > 50):\\n{mask}\")\n",
    "\n",
    "print(f\"\\nValues greater than 50: {M[mask]}\")"
   ]
  },
  {
   "cell_type": "markdown",
   "metadata": {},
   "source": [
    "### 2.4 Reshaping and Broadcasting"
   ]
  },
  {
   "cell_type": "code",
   "execution_count": null,
   "metadata": {},
   "outputs": [],
   "source": [
    "# Reshaping\n",
    "v = np.arange(12)\n",
    "print(f\"Original vector: {v}\")\n",
    "M_reshaped = v.reshape(4, 3)\n",
    "print(f\"\\nReshaped 4x3 Matrix:\\n{M_reshaped}\")\n",
    "\n",
    "# Broadcasting\n",
    "curve = np.array([100, 200, 300])\n",
    "print(f\"\\nMatrix to be broadcasted upon:\\n{M_reshaped}\")\n",
    "print(f\"\\nVector to broadcast: {curve}\")\n",
    "result = M_reshaped + curve\n",
    "print(f\"\\nResult after broadcasting:\\n{result}\")"
   ]
  },
  {
   "cell_type": "markdown",
   "metadata": {},
   "source": [
    "---"
   ]
  },
  {
   "cell_type": "markdown",
   "metadata": {},
   "source": [
    "## Part 3: Exercises\n",
    "\n",
    "Now it's your turn to practice. Complete the following exercises to solidify your understanding."
   ]
  },
  {
   "cell_type": "markdown",
   "metadata": {},
   "source": [
    "### Exercise 1: User Feature Matrix\n",
    "Create a matrix representing a batch of 5 user feature vectors, where each user is described by `[age, city_id, num_friends, avg_daily_minutes]`."
   ]
  },
  {
   "cell_type": "code",
   "execution_count": null,
   "metadata": {},
   "outputs": [],
   "source": [
    "# Your solution here\n",
    "user_data = np.array([\n",
    "    [34, 101, 150, 45.5],\n",
    "    [22, 102, 250, 90.1],\n",
    "    [45, 101, 80, 30.2],\n",
    "    [28, 103, 400, 120.0],\n",
    "    [31, 102, 180, 60.8]\n",
    "])\n",
    "\n",
    "print(user_data)"
   ]
  },
  {
   "cell_type": "markdown",
   "metadata": {},
   "source": [
    "### Exercise 2: Matrix Slicing\n",
    "Using the matrix from Exercise 1, select:\n",
    "1. The data for the first 3 users.\n",
    "2. Only the `age` (1st column) and `num_friends` (3rd column) for all users."
   ]
  },
  {
   "cell_type": "code",
   "execution_count": null,
   "metadata": {},
   "outputs": [],
   "source": [
    "# Your solution here\n",
    "first_three_users = user_data[0:3]\n",
    "print(f\"First three users:\\n{first_three_users}\")\n",
    "\n",
    "# Note: The second column index is 2\n",
    "age_and_friends = user_data[:, [0, 2]]\n",
    "print(f\"\\nAge and friends data for all users:\\n{age_and_friends}\")"
   ]
  },
  {
   "cell_type": "markdown",
   "metadata": {},
   "source": [
    "### Exercise 3: Boolean Indexing\n",
    "Using the matrix from Exercise 1, find all users who are older than 30 and have more than 100 friends."
   ]
  },
  {
   "cell_type": "code",
   "execution_count": null,
   "metadata": {},
   "outputs": [],
   "source": [
    "# Your solution here\n",
    "age_mask = user_data[:, 0] > 30\n",
    "friends_mask = user_data[:, 2] > 100\n",
    "\n",
    "# Combine masks with the logical AND operator `&`\n",
    "combined_mask = age_mask & friends_mask\n",
    "\n",
    "filtered_users = user_data[combined_mask]\n",
    "print(f\"Users older than 30 with >100 friends:\\n{filtered_users}\")"
   ]
  },
  {
   "cell_type": "markdown",
   "metadata": {},
   "source": [
    "### Exercise 4: Matrix Normalization (Standardization)\n",
    "Create a random 5x5 matrix and 'standardize' it. This is a common preprocessing step in ML where you subtract the mean of each *column* and divide by the standard deviation of each *column*."
   ]
  },
  {
   "cell_type": "code",
   "execution_count": null,
   "metadata": {},
   "outputs": [],
   "source": [
    "# Your solution here\n",
    "data = np.random.rand(5, 5) * 100\n",
    "\n",
    "# Calculate mean and std dev for each column (axis=0)\n",
    "col_means = data.mean(axis=0)\n",
    "col_stds = data.std(axis=0)\n",
    "\n",
    "# Standardize the data using broadcasting\n",
    "standardized_data = (data - col_means) / col_stds\n",
    "\n",
    "print(\"Original Data:\")\n",
    "print(data.round(2))\n",
    "print(\"\\nStandardized Data (Column means should be ~0, std dev ~1):\")\n",
    "print(standardized_data.round(2))"
   ]
  },
  {
   "cell_type": "markdown",
   "metadata": {},
   "source": [
    "### Exercise 5 (Challenge): Tensor Operations\n",
    "Create a random 3D tensor of shape `(32, 32, 3)` representing a small color image. Use slicing to set the 'blue' channel of a 5x5 patch in the center of the image to pure blue (value 1.0). Visualize the result."
   ]
  },
  {
   "cell_type": "code",
   "execution_count": null,
   "metadata": {},
   "outputs": [],
   "source": [
    "# Your solution here\n",
    "image = np.random.rand(32, 32, 3)\n",
    "\n",
    "# Find the center and define the patch boundaries\n",
    "center_x, center_y = 16, 16\n",
    "patch_size = 5\n",
    "start_x = center_x - patch_size // 2\n",
    "end_x = start_x + patch_size\n",
    "start_y = center_y - patch_size // 2\n",
    "end_y = start_y + patch_size\n",
    "\n",
    "# Set the blue channel (index 2) to 1.0 and others to 0\n",
    "image[start_y:end_y, start_x:end_x, 0] = 0 # Red\n",
    "image[start_y:end_y, start_x:end_x, 1] = 0 # Green\n",
    "image[start_y:end_y, start_x:end_x, 2] = 1 # Blue\n",
    "\n",
    "plt.imshow(image)\n",
    "plt.title('Image with Blue Center Patch')\n",
    "plt.show()"
   ]
  },
  {
   "cell_type": "markdown",
   "metadata": {},
   "source": [
    "---"
   ]
  },
  {
   "cell_type": "markdown",
   "metadata": {},
   "source": [
    "## Next Steps\n",
    "\n",
    "Congratulations on completing the first lecture! You now have a solid foundation in how data is represented numerically and how to manipulate it with NumPy.\n",
    "\n",
    "If you're comfortable with all the material here, you're ready to move on to **Lecture 2: The Dot Product - The Heart of Machine Learning!**"
   ]
  }
 ],
 "metadata": {
  "kernelspec": {
   "display_name": "Python 3",
   "language": "python",
   "name": "python3"
  },
  "language_info": {
   "codemirror_mode": {
    "name": "ipython",
    "version": 3
   },
   "file_extension": ".py",
   "mimetype": "text/x-python",
   "name": "python",
   "nbconvert_exporter": "python",
   "pygments_lexer": "ipython3",
   "version": "3.9.7"
  }
 },
 "nbformat": 4,
 "nbformat_minor": 4
}
