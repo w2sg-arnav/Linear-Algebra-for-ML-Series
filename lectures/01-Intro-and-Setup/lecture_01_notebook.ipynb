{
 "cells": [
  {
   "cell_type": "markdown",
   "metadata": {},
   "source": [
    "# Lecture 1: The Ultimate Guide to Representing Data (A NumPy Masterclass)\n",
    "\n",
    "Welcome to the first lecture and notebook for the series on Linear Algebra for Machine Learning! In this session, we'll build the entire foundation for our journey. We'll cover:\n",
    "\n",
    "1.  **The \"Why\":** A tour of real-world machine learning problems to see how data is represented.\n",
    "2.  **The \"What\":** Formal definitions of the core data containers: Scalars, Vectors, Matrices, and Tensors.\n",
    "3.  **The \"How\":** A practical, hands-on masterclass in NumPy to create, inspect, and manipulate these objects."
   ]
  },
  {
   "cell_type": "markdown",
   "metadata": {},
   "source": [
    "## Setup\n",
    "\n",
    "First, let's import NumPy and our visualization libraries."
   ]
  },
  {
   "cell_type": "code",
   "execution_count": null,
   "metadata": {},
   "outputs": [],
   "source": [
    "import numpy as np\n",
    "import pandas as pd\n",
    "import matplotlib.pyplot as plt\n",
    "import seaborn as sns\n",
    "from sklearn.datasets import load_sample_image\n",
    "\n",
    "# Set plot style for better visuals\n",
    "plt.style.use('seaborn-v0_8-whitegrid')\n",
    "sns.set_context('talk')\n",
    "%matplotlib inline"
   ]
  },
  {
   "cell_type": "markdown",
   "metadata": {},
   "source": [
    "---"
   ]
  },
  {
   "cell_type": "markdown",
   "metadata": {},
   "source": [
    "## Part 1: Why Linear Algebra? The Language of Data\n",
    "\n",
    "Machine learning models can only process numbers. We use linear algebra to represent real-world data in a structured, numerical format."
   ]
  },
  {
   "cell_type": "markdown",
   "metadata": {},
   "source": [
    "### The Tour: 1. Tabular Data\n",
    "\n",
    "- **Description:** Standard spreadsheets or tables.\n",
    "- **Representation:** The entire table is a **Matrix**. A single row (e.g., one house) is a **Vector**."
   ]
  },
  {
   "cell_type": "code",
   "execution_count": null,
   "metadata": {},
   "outputs": [],
   "source": [
    "# Create a Pandas DataFrame to represent a spreadsheet\n",
    "house_df = pd.DataFrame({\n",
    "    'SquareFootage': [1500, 2000, 1200, 1800],\n",
    "    'Bedrooms': [3, 4, 2, 3],\n",
    "    'Bathrooms': [2, 3, 1, 2],\n",
    "    'YearBuilt': [1990, 2000, 1975, 1985]\n",
    "})\n",
    "\n",
    "# Convert the DataFrame to a NumPy matrix\n",
    "houses_matrix = house_df.to_numpy()\n",
    "\n",
    "# Visualize the matrix with a heatmap\n",
    "plt.figure(figsize=(8, 5))\n",
    "sns.heatmap(houses_matrix, annot=True, fmt='d', cmap='viridis',\n",
    "            xticklabels=house_df.columns, yticklabels=[f'House {i+1}' for i in range(4)])\n",
    "plt.title('Tabular Data as a Matrix')\n",
    "plt.show()\n",
    "\n",
    "# Extract a single row as a vector\n",
    "house_vector = houses_matrix[0, :]\n",
    "print(f\"A single house as a vector: {house_vector}\")"
   ]
  },
  {
   "cell_type": "markdown",
   "metadata": {},
   "source": [
    "### The Tour: 2. Image Data\n",
    "\n",
    "- **Description:** Images are grids of pixels.\n",
    "- **Representation:** A grayscale image is a 2D **Matrix**. A color image is a 3D **Tensor** (height, width, color channels)."
   ]
  },
  {
   "cell_type": "code",
   "execution_count": null,
   "metadata": {},
   "outputs": [],
   "source": [
    "# Load a sample color image from scikit-learn\n",
    "china = load_sample_image('china.jpg')\n",
    "\n",
    "# The image is a 3D NumPy array (Tensor)\n",
    "print(f\"Image Tensor Shape: {china.shape}\") # (height, width, channels)\n",
    "\n",
    "# Separate the channels\n",
    "red_channel = china[:, :, 0]\n",
    "green_channel = china[:, :, 1]\n",
    "blue_channel = china[:, :, 2]\n",
    "\n",
    "# Visualize the full image and its channels\n",
    "fig, axes = plt.subplots(1, 4, figsize=(20, 5))\n",
    "\n",
    "axes[0].imshow(china)\n",
    "axes[0].set_title('Original Color Image (Tensor)')\n",
    "\n",
    "axes[1].imshow(red_channel, cmap='Reds')\n",
    "axes[1].set_title('Red Channel (Matrix)')\n",
    "\n",
    "axes[2].imshow(green_channel, cmap='Greens')\n",
    "axes[2].set_title('Green Channel (Matrix)')\n",
    "\n",
    "axes[3].imshow(blue_channel, cmap='Blues')\n",
    "axes[3].set_title('Blue Channel (Matrix)')\n",
    "\n",
    "for ax in axes:\n",
    "    ax.axis('off')\n",
    "\n",
    "plt.tight_layout()\n",
    "plt.show()"
   ]
  },
  {
   "cell_type": "markdown",
   "metadata": {},
   "source": [
    "### The Tour: 3. Text Data (NLP)\n",
    "\n",
    "- **Description:** Sentences and documents.\n",
    "- **Representation:** A sentence can be a **Matrix**, where each row is a **Vector** (a 'word embedding') representing a single word."
   ]
  },
  {
   "cell_type": "code",
   "execution_count": null,
   "metadata": {},
   "outputs": [],
   "source": [
    "# Create a fake word embedding matrix for a sentence\n",
    "sentence = \"Linear algebra is fun\"\n",
    "words = sentence.split()\n",
    "embedding_dim = 8 # Each word is represented by an 8-dimensional vector\n",
    "\n",
    "# Each row is a word vector\n",
    "embedding_matrix = np.random.rand(len(words), embedding_dim)\n",
    "\n",
    "plt.figure(figsize=(10, 3))\n",
    "sns.heatmap(embedding_matrix, annot=False, cmap='plasma',\n",
    "            yticklabels=words, xticklabels=[f'dim {i+1}' for i in range(embedding_dim)])\n",
    "plt.title('Sentence as a Word Embedding Matrix')\n",
    "plt.show()"
   ]
  },
  {
   "cell_type": "markdown",
   "metadata": {},
   "source": [
    "### The Tour: 4. Recommender Systems\n",
    "\n",
    "- **Description:** User interactions with items (e.g., movie ratings).\n",
    "- **Representation:** A large user-item interaction **Matrix**, where rows are users, columns are movies, and cells are ratings."
   ]
  },
  {
   "cell_type": "code",
   "execution_count": null,
   "metadata": {},
   "outputs": [],
   "source": [
    "# Create a sample user-item matrix. 0 represents an unrated movie.\n",
    "user_item_matrix = np.array([\n",
    "    [5, 4, 0, 1, 0],\n",
    "    [0, 5, 4, 0, 0],\n",
    "    [1, 0, 0, 5, 4],\n",
    "    [0, 0, 2, 4, 5],\n",
    "    [4, 4, 0, 0, 0]\n",
    "])\n",
    "\n",
    "# Create a masked array to properly visualize the zeros (missing ratings)\n",
    "masked_matrix = np.ma.masked_where(user_item_matrix == 0, user_item_matrix)\n",
    "\n",
    "plt.figure(figsize=(8, 6))\n",
    "sns.heatmap(masked_matrix, annot=True, fmt='.0f', cmap='coolwarm',\n",
    "            xticklabels=[f'Movie {i+1}' for i in range(5)],\n",
    "            yticklabels=[f'User {i+1}' for i in range(5)])\n",
    "plt.title('Recommender System Data as a Matrix')\n",
    "plt.show()"
   ]
  },
  {
   "cell_type": "markdown",
   "metadata": {},
   "source": [
    "---"
   ]
  },
  {
   "cell_type": "markdown",
   "metadata": {},
   "source": [
    "## Part 2: The NumPy Masterclass\n",
    "\n",
    "Now we'll dive deep into the essential NumPy operations for creating and manipulating these data structures."
   ]
  },
  {
   "cell_type": "markdown",
   "metadata": {},
   "source": [
    "### 2.1 Key Terminology & Inspecting Attributes"
   ]
  },
  {
   "cell_type": "code",
   "execution_count": null,
   "metadata": {},
   "outputs": [],
   "source": [
    "M = np.array([\n",
    "    [4, 1800, 25],\n",
    "    [3, 1500, 40]\n",
    "])\n",
    "\n",
    "print(\"A Matrix is a 2D array of numbers.\")\n",
    "print(f\"Matrix:\\n{M}\")\n",
    "print(\"---------------------------------------\")\n",
    "print(\"A Scalar is a single number.\")\n",
    "s = M[0, 0]\n",
    "print(f\"Scalar extracted from matrix: {s}\")\n",
    "print(\"---------------------------------------\")\n",
    "print(\"A Vector is an ordered list of numbers.\")\n",
    "v = M[0, :]\n",
    "print(f\"Vector extracted from matrix: {v}\")\n",
    "print(\"---------------------------------------\")\n",
    "print(\"Dimension can refer to the number of elements in a vector OR the size of a matrix axis.\")\n",
    "print(f\"Shape (rows, columns): {M.shape}\")\n",
    "print(f\"Number of dimensions (axes): {M.ndim}\")"
   ]
  },
  {
   "cell_type": "markdown",
   "metadata": {},
   "source": [
    "### 2.2 Array Creation Routines"
   ]
  },
  {
   "cell_type": "code",
   "execution_count": null,
   "metadata": {},
   "outputs": [],
   "source": [
    "print(\"np.zeros:\")\n",
    "print(np.zeros((2, 3)))\n",
    "\n",
    "print(\"\\nnp.ones:\")\n",
    "print(np.ones(4))\n",
    "\n",
    "print(\"\\nnp.arange:\")\n",
    "print(np.arange(5, 15, 2))\n",
    "\n",
    "print(\"\\nnp.linspace:\")\n",
    "print(np.linspace(0, 10, 5))\n",
    "\n",
    "print(\"\\nnp.random.randint (a 3x3 matrix of integers from 1 to 10):\")\n",
    "print(np.random.randint(1, 11, size=(3, 3)))"
   ]
  },
  {
   "cell_type": "markdown",
   "metadata": {},
   "source": [
    "### 2.3 Indexing and Slicing (The Most Important Skill!)"
   ]
  },
  {
   "cell_type": "code",
   "execution_count": null,
   "metadata": {},
   "outputs": [],
   "source": [
    "M = np.random.randint(10, 100, size=(5, 5))\n",
    "print(f\"Original 5x5 Matrix:\\n{M}\")\n",
    "\n",
    "print(f\"\\nElement at row 0, col 1: {M[0, 1]}\")\n",
    "\n",
    "print(f\"\\nSecond row (index 1): {M[1, :]}\")\n",
    "\n",
    "print(f\"\\nThird column (index 2): {M[:, 2]}\")\n",
    "\n",
    "print(f\"\\nTop-right 2x2 sub-grid:\\n{M[0:2, 3:5]}\")"
   ]
  },
  {
   "cell_type": "markdown",
   "metadata": {},
   "source": [
    "### 2.4 Reshaping and Broadcasting"
   ]
  },
  {
   "cell_type": "code",
   "execution_count": null,
   "metadata": {},
   "outputs": [],
   "source": [
    "# Broadcasting Visualization\n",
    "matrix = np.array([[1, 2, 3], [4, 5, 6], [7, 8, 9]])\n",
    "vector = np.array([10, 20, 30])\n",
    "result = matrix + vector\n",
    "\n",
    "fig, axes = plt.subplots(1, 3, figsize=(15, 4))\n",
    "\n",
    "sns.heatmap(matrix, annot=True, fmt='d', cmap='viridis', cbar=False, ax=axes[0])\n",
    "axes[0].set_title('Original Matrix')\n",
    "\n",
    "sns.heatmap(vector.reshape(1, -1), annot=True, fmt='d', cmap='viridis', cbar=False, ax=axes[1])\n",
    "axes[1].set_title('Vector to Broadcast (+)')\n",
    "axes[1].set_yticks([]) # Hide y-axis ticks\n",
    "\n",
    "sns.heatmap(result, annot=True, fmt='d', cmap='viridis', cbar=False, ax=axes[2])\n",
    "axes[2].set_title('Result after Broadcasting (=)')\n",
    "\n",
    "plt.tight_layout()\n",
    "plt.show()"
   ]
  },
  {
   "cell_type": "markdown",
   "metadata": {},
   "source": [
    "---"
   ]
  },
  {
   "cell_type": "markdown",
   "metadata": {},
   "source": [
    "## Part 3: Exercises\n",
    "\n",
    "Now it's your turn to practice. Complete the following exercises to solidify your understanding."
   ]
  },
  {
   "cell_type": "markdown",
   "metadata": {},
   "source": [
    "### Exercise 1 (Creation)\n",
    "Create a 1D NumPy array containing the numbers from 10 to 50, with a step of 5."
   ]
  },
  {
   "cell_type": "code",
   "execution_count": null,
   "metadata": {},
   "outputs": [],
   "source": [
    "# Your solution here\n",
    "ex1_array = np.arange(10, 51, 5)\n",
    "print(ex1_array)"
   ]
  },
  {
   "cell_type": "markdown",
   "metadata": {},
   "source": [
    "### Exercise 2 (Reshaping)\n",
    "Take the array from Ex 1. Notice it has 9 elements. Reshape it into a 3x3 matrix."
   ]
  },
  {
   "cell_type": "code",
   "execution_count": null,
   "metadata": {},
   "outputs": [],
   "source": [
    "# Your solution here\n",
    "ex2_matrix = ex1_array.reshape(3, 3)\n",
    "print(ex2_matrix)"
   ]
  },
  {
   "cell_type": "markdown",
   "metadata": {},
   "source": [
    "### Exercise 3 (Data Representation)\n",
    "Create a random 5x4 matrix representing a small dataset of 5 students and 4 exam scores. The scores should be integers between 50 and 100."
   ]
  },
  {
   "cell_type": "code",
   "execution_count": null,
   "metadata": {},
   "outputs": [],
   "source": [
    "# Your solution here\n",
    "student_scores = np.random.randint(50, 101, size=(5, 4))\n",
    "print(student_scores)"
   ]
  },
  {
   "cell_type": "markdown",
   "metadata": {},
   "source": [
    "### Exercise 4 (Slicing)\n",
    "From the student matrix in Ex 3, select:\n",
    "1. The scores of the 3rd student (index 2).\n",
    "2. The scores of all students for the 4th exam (index 3)."
   ]
  },
  {
   "cell_type": "code",
   "execution_count": null,
   "metadata": {},
   "outputs": [],
   "source": [
    "# Your solution here\n",
    "third_student_scores = student_scores[2, :]\n",
    "fourth_exam_scores = student_scores[:, 3]\n",
    "print(f\"Scores for student 3: {third_student_scores}\")\n",
    "print(f\"Scores for exam 4: {fourth_exam_scores}\")"
   ]
  },
  {
   "cell_type": "markdown",
   "metadata": {},
   "source": [
    "### Exercise 5 (Boolean Indexing)\n",
    "From the student matrix, find all scores that are considered 'A' grades (>= 90)."
   ]
  },
  {
   "cell_type": "code",
   "execution_count": null,
   "metadata": {},
   "outputs": [],
   "source": [
    "# Your solution here\n",
    "a_grades = student_scores[student_scores >= 90]\n",
    "print(f\"'A' Grades: {a_grades}\")"
   ]
  },
  {
   "cell_type": "markdown",
   "metadata": {},
   "source": [
    "### Exercise 6 (Broadcasting Challenge)\n",
    "You have the 5x4 student matrix. 'Curve' the grades by adding the following points to each of the 4 exams respectively: `[2, 5, 0, 3]`. This will require broadcasting a 1D vector onto the 2D matrix."
   ]
  },
  {
   "cell_type": "code",
   "execution_count": null,
   "metadata": {},
   "outputs": [],
   "source": [
    "# Your solution here\n",
    "curve = np.array([2, 5, 0, 3])\n",
    "curved_scores = student_scores + curve\n",
    "print(\"Curved Scores:\")\n",
    "print(curved_scores)"
   ]
  },
  {
   "cell_type": "markdown",
   "metadata": {},
   "source": [
    "### Bonus Exercise (Image Processing)\n",
    "Create a random 3D tensor of shape `(32, 32, 3)` representing a small color image. Use slicing to set the 'green' channel of the top-left 10x10 pixels to pure green (value 1.0). Visualize the image before and after the modification."
   ]
  },
  {
   "cell_type": "code",
   "execution_count": null,
   "metadata": {},
   "outputs": [],
   "source": [
    "# Your solution here\n",
    "image = np.random.rand(32, 32, 3)  # Values are between 0 and 1\n",
    "modified_image = image.copy()\n",
    "\n",
    "# Set the R and B channels to 0 and the G channel to 1 in the top-left corner\n",
    "modified_image[0:10, 0:10, 0] = 0 # Red channel\n",
    "modified_image[0:10, 0:10, 1] = 1 # Green channel\n",
    "modified_image[0:10, 0:10, 2] = 0 # Blue channel\n",
    "\n",
    "fig, axes = plt.subplots(1, 2, figsize=(10, 5))\n",
    "axes[0].imshow(image)\n",
    "axes[0].set_title('Original Random Image')\n",
    "axes[1].imshow(modified_image)\n",
    "axes[1].set_title('Modified Image')\n",
    "plt.show()"
   ]
  },
  {
   "cell_type": "markdown",
   "metadata": {},
   "source": [
    "---"
   ]
  },
  {
   "cell_type": "markdown",
   "metadata": {},
   "source": [
    "## Next Steps\n",
    "\n",
    "Congratulations on completing the first lecture! You now have a solid foundation in how data is represented numerically and how to manipulate it with NumPy.\n",
    "\n",
    "If you're comfortable with all the material here, you're ready to move on to **Lecture 2: The Dot Product - The Heart of Machine Learning!**"
   ]
  }
 ],
 "metadata": {
  "kernelspec": {
   "display_name": "Python 3",
   "language": "python",
   "name": "python3"
  },
  "language_info": {
   "codemirror_mode": {
    "name": "ipython",
    "version": 3
   },
   "file_extension": ".py",
   "mimetype": "text/x-python",
   "name": "python",
   "nbconvert_exporter": "python",
   "pygments_lexer": "ipython3",
   "version": "3.9.7"
  }
 },
 "nbformat": 4,
 "nbformat_minor": 4
}
