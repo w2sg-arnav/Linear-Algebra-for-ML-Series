{
 "cells": [
  {
   "cell_type": "markdown",
   "id": "543adb69",
   "metadata": {},
   "source": [
    "# Lecture 1: The Ultimate Guide to Representing Data (A NumPy Masterclass)\n",
    "\n",
    "Welcome to the first lecture and notebook for the series on Linear Algebra for Machine Learning! \n",
    "\n",
    "In this session, we'll build the entire foundation for our journey. We'll cover:\n",
    "\n",
    "1.  **The \"Why\":** A tour of real-world machine learning problems to see how data is represented.\n",
    "2.  **The \"What\":** Formal definitions of the core data containers: Scalars, Vectors, Matrices, and Tensors.\n",
    "3.  **The \"How\":** A practical, hands-on masterclass in NumPy to create, inspect, and manipulate these objects.\n",
    "\n",
    "Let's get started!"
   ]
  },
  {
   "cell_type": "markdown",
   "id": "374cb171",
   "metadata": {},
   "source": [
    "## Setup\n",
    "\n",
    "First, let's import NumPy, our fundamental library for numerical computations. We'll also import some visualization libraries that we'll use for examples."
   ]
  },
  {
   "cell_type": "code",
   "execution_count": null,
   "id": "10db35ca",
   "metadata": {},
   "outputs": [],
   "source": [
    "import numpy as np\n",
    "import matplotlib.pyplot as plt\n",
    "import seaborn as sns\n",
    "\n",
    "# Set plot style\n",
    "plt.style.use('seaborn')\n",
    "%matplotlib inline"
   ]
  },
  {
   "cell_type": "markdown",
   "id": "a1cd7c81",
   "metadata": {},
   "source": [
    "## Part 1: Why Linear Algebra? The Language of Data\n",
    "\n",
    "Machine learning models, no matter how complex, can only process numbers. Linear algebra provides the tools and structures to represent different kinds of data in a numerical format.\n",
    "\n",
    "### The Tour: 1. Tabular Data\n",
    "\n",
    "- **Description:** Standard spreadsheets or tables.\n",
    "- **Representation:** The entire table is a **Matrix**. A single row (e.g., one house) is a **Vector**.\n",
    "\n",
    "### The Tour: 2. Image Data\n",
    "\n",
    "- **Description:** Images are grids of pixels.\n",
    "- **Representation:** A grayscale image is a 2D **Matrix**. A color image is a 3D **Tensor** (height, width, color channels).\n",
    "\n",
    "### The Tour: 3. Text Data (NLP)\n",
    "\n",
    "- **Description:** Sentences and documents.\n",
    "- **Representation:** A sentence can be a **Matrix**, where each row is a **Vector** (a 'word embedding') representing a single word.\n",
    "\n",
    "### The Tour: 4. Recommender Systems\n",
    "\n",
    "- **Description:** User interactions with items (e.g., movie ratings).\n",
    "- **Representation:** A large user-item interaction **Matrix**, where rows are users, columns are movies, and cells are ratings.\n",
    "\n",
    "Let's see some examples!"
   ]
  },
  {
   "cell_type": "code",
   "execution_count": null,
   "id": "227ee0f6",
   "metadata": {},
   "outputs": [],
   "source": [
    "# Example 1: Representing a data point\n",
    "# Each feature is one dimension in our vector\n",
    "house_features = np.array([1500,  # Square footage\n",
    "                          3,      # Bedrooms\n",
    "                          2,      # Bathrooms\n",
    "                          1990])  # Year built\n",
    "\n",
    "print(\"House features as a vector:\", house_features)\n",
    "print(\"Vector shape:\", house_features.shape)"
   ]
  },
  {
   "cell_type": "markdown",
   "id": "866b1eea",
   "metadata": {},
   "source": [
    "### 2.1 From Single Points to Datasets\n",
    "\n",
    "In machine learning, we typically work with many data points. This is where matrices come in!"
   ]
  },
  {
   "cell_type": "code",
   "execution_count": null,
   "id": "562049b8",
   "metadata": {},
   "outputs": [],
   "source": [
    "# Example 2: Multiple houses as a matrix\n",
    "houses_dataset = np.array([\n",
    "    [1500, 3, 2, 1990],  # House 1\n",
    "    [2000, 4, 3, 2000],  # House 2\n",
    "    [1200, 2, 1, 1975],  # House 3\n",
    "    [1800, 3, 2, 1985]   # House 4\n",
    "])\n",
    "\n",
    "print(\"Houses dataset as a matrix:\")\n",
    "print(houses_dataset)\n",
    "print(\"\\nMatrix shape:\", houses_dataset.shape)"
   ]
  },
  {
   "cell_type": "markdown",
   "id": "d4ff665d",
   "metadata": {},
   "source": [
    "## 3. Visual Example: Linear Algebra in Image Processing\n",
    "\n",
    "Images are naturally represented as matrices where each element represents a pixel value."
   ]
  },
  {
   "cell_type": "markdown",
   "id": "7260828c",
   "metadata": {},
   "source": [
    "## Part 2: The Core Data Containers & The Power of Shape\n",
    "\n",
    "Let's formally define these objects.\n",
    "\n",
    "### Decoding Tensor Shapes: The Key to Debugging Deep Learning\n",
    "\n",
    "The `shape` of a NumPy array is a tuple that tells you the size of the array along each dimension.\n",
    "\n",
    "- **A Color Image:** `(height, width, channels)` -> e.g., `(1080, 1920, 3)`\n",
    "- **A Batch of Images (for a CNN):** `(batch_size, height, width, channels)` -> e.g., `(64, 224, 224, 3)`\n",
    "- **NLP Data (A Batch of Sentences):** `(batch_size, sequence_length, embedding_dim)` -> e.g., `(32, 50, 300)`\n",
    "\n",
    "Let's explore this with a visual example:"
   ]
  },
  {
   "cell_type": "code",
   "execution_count": null,
   "id": "c5fb1c7e",
   "metadata": {},
   "outputs": [],
   "source": [
    "# Create a simple 8x8 grayscale image\n",
    "simple_image = np.zeros((8, 8))\n",
    "simple_image[2:6, 2:6] = 1  # Create a white square in the middle\n",
    "\n",
    "plt.figure(figsize=(10, 4))\n",
    "\n",
    "# Show the image\n",
    "plt.subplot(121)\n",
    "plt.imshow(simple_image, cmap='gray')\n",
    "plt.title('Simple 8x8 Image')\n",
    "\n",
    "# Show the matrix values\n",
    "plt.subplot(122)\n",
    "sns.heatmap(simple_image, annot=True, fmt='.1f', cmap='gray')\n",
    "plt.title('Image as a Matrix')\n",
    "\n",
    "plt.tight_layout()\n",
    "plt.show()"
   ]
  },
  {
   "cell_type": "markdown",
   "id": "19291d64",
   "metadata": {},
   "source": [
    "## 4. Key Terminology\n",
    "\n",
    "Let's introduce some key terms we'll use throughout the series:\n",
    "\n",
    "- **Vector**: An ordered list of numbers (like our house features)\n",
    "- **Matrix**: A 2D array of numbers (like our houses dataset)\n",
    "- **Dimension**: The number of components in a vector or the size of a matrix\n",
    "- **Scalar**: A single number\n",
    "\n",
    "We'll expand on these concepts in the upcoming lectures!"
   ]
  },
  {
   "cell_type": "markdown",
   "id": "0dc69089",
   "metadata": {},
   "source": [
    "## Part 3: The NumPy Masterclass\n",
    "\n",
    "Now that we understand what these objects are, let's learn how to create and manipulate them in Python using NumPy. We'll cover:\n",
    "\n",
    "1. Creating Arrays & Inspecting Attributes\n",
    "2. Array Creation Routines\n",
    "3. Indexing and Slicing (The Most Important Skill!)\n",
    "4. Reshaping and Broadcasting"
   ]
  },
  {
   "cell_type": "markdown",
   "id": "96dab48c",
   "metadata": {},
   "source": [
    "### 3.1 Creating Arrays & Inspecting Attributes\n",
    "\n",
    "Let's start with the fundamentals: creating NumPy arrays of different dimensions and inspecting their properties."
   ]
  },
  {
   "cell_type": "markdown",
   "id": "8ecfde7f",
   "metadata": {},
   "source": [
    "## Part 4: Exercises\n",
    "\n",
    "Now it's your turn to practice these concepts. Each exercise builds upon the previous ones and covers a different aspect of data representation and manipulation.\n",
    "\n",
    "### Exercise 1 (Creation)\n",
    "Create a 1D NumPy array containing the numbers from 10 to 50, with a step of 5.\n",
    "\n",
    "### Exercise 2 (Reshaping)\n",
    "Take the array from Ex 1 and reshape it into a 3x3 matrix.\n",
    "\n",
    "### Exercise 3 (Data Representation)\n",
    "Create a random 5x4 matrix representing a small dataset of 5 students and 4 exam scores. The scores should be integers between 50 and 100.\n",
    "\n",
    "### Exercise 4 (Slicing)\n",
    "From the student matrix in Ex 3:\n",
    "1. Select the scores of the 3rd student (index 2)\n",
    "2. Select the scores of all students for the 4th exam (index 3)\n",
    "\n",
    "### Exercise 5 (Boolean Indexing)\n",
    "From the student matrix, find all scores that are considered 'A' grades (>= 90).\n",
    "\n",
    "### Exercise 6 (Broadcasting Challenge)\n",
    "You have the 5x4 student matrix. 'Curve' the grades by adding the following points to each of the 4 exams respectively: `[2, 5, 0, 3]`. This will require broadcasting a 1D vector onto the 2D matrix.\n",
    "\n",
    "### Bonus Exercise (Image Processing)\n",
    "Create a random 3D tensor of shape (32, 32, 3) representing a small color image. Use slicing to set the 'green' channel of the top-left 10x10 pixels to pure green (value 1.0). Visualize the image before and after the modification."
   ]
  },
  {
   "cell_type": "code",
   "execution_count": null,
   "id": "f830524f",
   "metadata": {},
   "outputs": [],
   "source": [
    "# Exercise 1: Creation\n",
    "# Your code here\n",
    "\n",
    "# Example solution:\n",
    "# array = np.arange(10, 51, 5)\n",
    "# print(array)"
   ]
  },
  {
   "cell_type": "code",
   "execution_count": null,
   "id": "1937bb83",
   "metadata": {},
   "outputs": [],
   "source": [
    "# Exercise 2: Reshaping\n",
    "# Your code here\n",
    "\n",
    "# Example solution:\n",
    "# reshaped = array[:9].reshape(3, 3)  # We need 9 elements for a 3x3 matrix\n",
    "# print(reshaped)"
   ]
  },
  {
   "cell_type": "code",
   "execution_count": null,
   "id": "b10538b2",
   "metadata": {},
   "outputs": [],
   "source": [
    "# Exercise 3: Data Representation\n",
    "# Your code here\n",
    "\n",
    "# Example solution:\n",
    "# student_scores = np.random.randint(50, 101, size=(5, 4))\n",
    "# print(\"Student scores matrix:\")\n",
    "# print(student_scores)\n",
    "# print(\"\\nShape:\", student_scores.shape)"
   ]
  },
  {
   "cell_type": "code",
   "execution_count": null,
   "id": "81ae681a",
   "metadata": {},
   "outputs": [],
   "source": [
    "# Exercise 4: Slicing\n",
    "# Your code here\n",
    "\n",
    "# Example solution:\n",
    "# third_student = student_scores[2, :]  # All scores for the third student\n",
    "# fourth_exam = student_scores[:, 3]    # Fourth exam scores for all students\n",
    "# print(\"Third student's scores:\", third_student)\n",
    "# print(\"Fourth exam scores:\", fourth_exam)"
   ]
  },
  {
   "cell_type": "code",
   "execution_count": null,
   "id": "e2512a31",
   "metadata": {},
   "outputs": [],
   "source": [
    "# Exercise 5: Boolean Indexing\n",
    "# Your code here\n",
    "\n",
    "# Example solution:\n",
    "# a_grades_mask = student_scores >= 90\n",
    "# a_grades = student_scores[a_grades_mask]\n",
    "# print(\"A grades:\", a_grades)\n",
    "# print(\"Number of A grades:\", len(a_grades))"
   ]
  },
  {
   "cell_type": "code",
   "execution_count": null,
   "id": "4dbfbd32",
   "metadata": {},
   "outputs": [],
   "source": [
    "# Exercise 6: Broadcasting Challenge\n",
    "# Your code here\n",
    "\n",
    "# Example solution:\n",
    "# curve = np.array([2, 5, 0, 3])  # Points to add to each exam\n",
    "# curved_scores = student_scores + curve  # Broadcasting in action!\n",
    "# print(\"Original scores:\\n\", student_scores)\n",
    "# print(\"\\nCurved scores:\\n\", curved_scores)"
   ]
  },
  {
   "cell_type": "code",
   "execution_count": null,
   "id": "41d886cd",
   "metadata": {},
   "outputs": [],
   "source": [
    "# Bonus Exercise: Image Processing\n",
    "# Your code here\n",
    "\n",
    "# Example solution:\n",
    "# Create a random RGB image\n",
    "# image = np.random.random((32, 32, 3))  # Values between 0 and 1\n",
    "\n",
    "# Make a copy for comparison\n",
    "# modified_image = image.copy()\n",
    "\n",
    "# Set the green channel (index 1) to 1.0 in the top-left 10x10 pixels\n",
    "# modified_image[:10, :10, 1] = 1.0\n",
    "\n",
    "# Visualize the results\n",
    "# plt.figure(figsize=(12, 4))\n",
    "# plt.subplot(121)\n",
    "# plt.imshow(image)\n",
    "# plt.title('Original Image')\n",
    "# plt.subplot(122)\n",
    "# plt.imshow(modified_image)\n",
    "# plt.title('Modified Image (Green Patch)')\n",
    "# plt.show()"
   ]
  },
  {
   "cell_type": "code",
   "execution_count": null,
   "id": "b41e6bf3",
   "metadata": {},
   "outputs": [],
   "source": [
    "# Your solution here!\n"
   ]
  },
  {
   "cell_type": "markdown",
   "id": "2815f9a1",
   "metadata": {},
   "source": [
    "## Next Steps\n",
    "\n",
    "In this lecture, we've built a solid foundation in representing data numerically using NumPy. In the next lecture, we'll dive deep into the dot product - the fundamental operation that powers similarity measures, neural networks, and much more.\n",
    "\n",
    "What you've learned:\n",
    "1. How different types of data are represented numerically\n",
    "2. The core data containers: scalars, vectors, matrices, and tensors\n",
    "3. Essential NumPy operations for data manipulation\n",
    "4. Practical skills in indexing, slicing, and broadcasting\n",
    "\n",
    "Before moving on:\n",
    "1. Complete all the exercises\n",
    "2. Try modifying the exercises to create your own challenges\n",
    "3. Think about how these concepts apply to your own data problems\n",
    "4. Watch the accompanying video lecture if you haven't already\n",
    "\n",
    "If you're comfortable with all the material here, you're ready to move on to Lecture 2: The Dot Product - The Heart of Machine Learning!"
   ]
  },
  {
   "cell_type": "markdown",
   "id": "fe478635",
   "metadata": {},
   "source": [
    "## Exercises\n",
    "\n",
    "### Exercise 1: User Feature Matrix\n",
    "Create a matrix representing a batch of 5 user feature vectors, where each user is described by [age, city_id, num_friends, avg_daily_minutes]."
   ]
  },
  {
   "cell_type": "code",
   "execution_count": null,
   "id": "d107579c",
   "metadata": {},
   "outputs": [],
   "source": [
    "# Your solution here\n",
    "# Create a matrix with 5 rows (users) and 4 columns (features)\n",
    "# Features: [age, city_id, num_friends, avg_daily_minutes]"
   ]
  },
  {
   "cell_type": "markdown",
   "id": "9300cf63",
   "metadata": {},
   "source": [
    "### Exercise 2: Matrix Slicing\n",
    "Using the matrix from Exercise 1:\n",
    "1. Select the first 3 users\n",
    "2. Select only the age and num_friends columns for all users"
   ]
  },
  {
   "cell_type": "code",
   "execution_count": null,
   "id": "5d2ad268",
   "metadata": {},
   "outputs": [],
   "source": [
    "# Your solution here\n",
    "# 1. Use array slicing to get first 3 users\n",
    "# 2. Use array slicing to select specific columns"
   ]
  },
  {
   "cell_type": "markdown",
   "id": "c0fa297d",
   "metadata": {},
   "source": [
    "### Exercise 3: Boolean Indexing\n",
    "Using the matrix from Exercise 1, use boolean indexing to find all users older than 30."
   ]
  },
  {
   "cell_type": "code",
   "execution_count": null,
   "id": "615d8043",
   "metadata": {},
   "outputs": [],
   "source": [
    "# Your solution here\n",
    "# Use boolean indexing to filter users by age\n",
    "# Hint: Use user_data[:, 0] to get the age column"
   ]
  },
  {
   "cell_type": "markdown",
   "id": "11326ce3",
   "metadata": {},
   "source": [
    "### Exercise 4: Matrix Normalization\n",
    "Create a random 5x5 matrix and \"normalize\" it by:\n",
    "1. Subtracting the mean of the whole matrix from every element\n",
    "2. Dividing by the standard deviation\n",
    "\n",
    "This is a common preprocessing step in machine learning known as standardization."
   ]
  },
  {
   "cell_type": "code",
   "execution_count": null,
   "id": "4588472d",
   "metadata": {},
   "outputs": [],
   "source": [
    "# Your solution here\n",
    "# 1. Create a random 5x5 matrix\n",
    "# 2. Calculate its mean and standard deviation\n",
    "# 3. Normalize it using broadcasting\n",
    "# Hint: Use np.mean() and np.std()"
   ]
  },
  {
   "cell_type": "markdown",
   "id": "3099a0d1",
   "metadata": {},
   "source": [
    "### Exercise 5: Tensor Operations\n",
    "Create a random 3D tensor of shape (32, 32, 3) representing a small color image. Use slicing to set the 'green' channel of the top-left 10x10 pixels to pure green (value 1.0).\n",
    "\n",
    "Bonus: Visualize the image before and after the modification."
   ]
  },
  {
   "cell_type": "code",
   "execution_count": null,
   "id": "23e02e41",
   "metadata": {},
   "outputs": [],
   "source": [
    "# Your solution here\n",
    "# 1. Create a random 32x32x3 tensor\n",
    "# 2. Modify the green channel in the top-left corner\n",
    "# 3. Visualize the results using plt.imshow()\n",
    "# Hint: The green channel is at index 1"
   ]
  }
 ],
 "metadata": {
  "language_info": {
   "name": "python"
  }
 },
 "nbformat": 4,
 "nbformat_minor": 5
}
