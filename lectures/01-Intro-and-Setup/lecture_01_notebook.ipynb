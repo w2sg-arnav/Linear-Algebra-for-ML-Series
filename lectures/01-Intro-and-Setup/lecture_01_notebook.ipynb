{
 "cells": [
  {
   "cell_type": "markdown",
   "id": "543adb69",
   "metadata": {},
   "source": [
    "# Linear Algebra for ML - Lecture 1: The Ultimate Guide to Representing Data\n",
    "\n",
    "Welcome to the first lecture in our comprehensive series on Linear Algebra for Machine Learning. This notebook accompanies the video lecture and provides hands-on implementation of all concepts covered.\n",
    "\n",
    "## Learning Objectives\n",
    "- Understand how different types of data are represented numerically in ML\n",
    "- Master the core NumPy operations for data manipulation\n",
    "- Build practical intuition for vectors, matrices, and tensors\n",
    "- Learn essential skills for data preprocessing and transformation"
   ]
  },
  {
   "cell_type": "markdown",
   "id": "374cb171",
   "metadata": {},
   "source": [
    "## 1. Setting Up Our Environment\n",
    "\n",
    "First, let's import the libraries we'll use throughout this series:"
   ]
  },
  {
   "cell_type": "code",
   "execution_count": null,
   "id": "10db35ca",
   "metadata": {},
   "outputs": [],
   "source": [
    "import numpy as np\n",
    "import matplotlib.pyplot as plt\n",
    "import seaborn as sns\n",
    "\n",
    "# Set plot style\n",
    "plt.style.use('seaborn')\n",
    "%matplotlib inline"
   ]
  },
  {
   "cell_type": "markdown",
   "id": "a1cd7c81",
   "metadata": {},
   "source": [
    "## 2. Why Linear Algebra Matters in Machine Learning\n",
    "\n",
    "Linear algebra is the language of machine learning. Here's why:\n",
    "\n",
    "1. **Data Representation**\n",
    "   - Features as vectors\n",
    "   - Datasets as matrices\n",
    "   - Images as tensors\n",
    "\n",
    "2. **Algorithm Operations**\n",
    "   - Neural network layers\n",
    "   - Distance calculations\n",
    "   - Dimensionality reduction\n",
    "\n",
    "Let's see some examples!"
   ]
  },
  {
   "cell_type": "code",
   "execution_count": null,
   "id": "227ee0f6",
   "metadata": {},
   "outputs": [],
   "source": [
    "# Example 1: Representing a data point\n",
    "# Each feature is one dimension in our vector\n",
    "house_features = np.array([1500,  # Square footage\n",
    "                          3,      # Bedrooms\n",
    "                          2,      # Bathrooms\n",
    "                          1990])  # Year built\n",
    "\n",
    "print(\"House features as a vector:\", house_features)\n",
    "print(\"Vector shape:\", house_features.shape)"
   ]
  },
  {
   "cell_type": "markdown",
   "id": "866b1eea",
   "metadata": {},
   "source": [
    "### 2.1 From Single Points to Datasets\n",
    "\n",
    "In machine learning, we typically work with many data points. This is where matrices come in!"
   ]
  },
  {
   "cell_type": "code",
   "execution_count": null,
   "id": "562049b8",
   "metadata": {},
   "outputs": [],
   "source": [
    "# Example 2: Multiple houses as a matrix\n",
    "houses_dataset = np.array([\n",
    "    [1500, 3, 2, 1990],  # House 1\n",
    "    [2000, 4, 3, 2000],  # House 2\n",
    "    [1200, 2, 1, 1975],  # House 3\n",
    "    [1800, 3, 2, 1985]   # House 4\n",
    "])\n",
    "\n",
    "print(\"Houses dataset as a matrix:\")\n",
    "print(houses_dataset)\n",
    "print(\"\\nMatrix shape:\", houses_dataset.shape)"
   ]
  },
  {
   "cell_type": "markdown",
   "id": "d4ff665d",
   "metadata": {},
   "source": [
    "## 3. Visual Example: Linear Algebra in Image Processing\n",
    "\n",
    "Images are naturally represented as matrices where each element represents a pixel value."
   ]
  },
  {
   "cell_type": "code",
   "execution_count": null,
   "id": "c5fb1c7e",
   "metadata": {},
   "outputs": [],
   "source": [
    "# Create a simple 8x8 grayscale image\n",
    "simple_image = np.zeros((8, 8))\n",
    "simple_image[2:6, 2:6] = 1  # Create a white square in the middle\n",
    "\n",
    "plt.figure(figsize=(10, 4))\n",
    "\n",
    "# Show the image\n",
    "plt.subplot(121)\n",
    "plt.imshow(simple_image, cmap='gray')\n",
    "plt.title('Simple 8x8 Image')\n",
    "\n",
    "# Show the matrix values\n",
    "plt.subplot(122)\n",
    "sns.heatmap(simple_image, annot=True, fmt='.1f', cmap='gray')\n",
    "plt.title('Image as a Matrix')\n",
    "\n",
    "plt.tight_layout()\n",
    "plt.show()"
   ]
  },
  {
   "cell_type": "markdown",
   "id": "19291d64",
   "metadata": {},
   "source": [
    "## 4. Key Terminology\n",
    "\n",
    "Let's introduce some key terms we'll use throughout the series:\n",
    "\n",
    "- **Vector**: An ordered list of numbers (like our house features)\n",
    "- **Matrix**: A 2D array of numbers (like our houses dataset)\n",
    "- **Dimension**: The number of components in a vector or the size of a matrix\n",
    "- **Scalar**: A single number\n",
    "\n",
    "We'll expand on these concepts in the upcoming lectures!"
   ]
  },
  {
   "cell_type": "markdown",
   "id": "8ecfde7f",
   "metadata": {},
   "source": [
    "## 5. Practice Exercises\n",
    "\n",
    "Let's solidify our understanding with some exercises. Try these on your own:\n",
    "\n",
    "1. Create a vector representing a student's grades in 5 subjects\n",
    "2. Create a matrix representing 3 students' grades in those 5 subjects\n",
    "3. Calculate the average grade for each student (hint: use `np.mean()`)\n",
    "\n",
    "Write your solutions below:"
   ]
  },
  {
   "cell_type": "code",
   "execution_count": null,
   "id": "b41e6bf3",
   "metadata": {},
   "outputs": [],
   "source": [
    "# Your solution here!\n"
   ]
  },
  {
   "cell_type": "markdown",
   "id": "2815f9a1",
   "metadata": {},
   "source": [
    "## Next Steps\n",
    "\n",
    "In the next lecture, we'll dive deep into vectors and learn how to perform various operations with them. We'll see how these operations form the foundation of many machine learning algorithms.\n",
    "\n",
    "Don't forget to:\n",
    "1. Try the practice exercises\n",
    "2. Check the solutions in `lecture_01_solutions.ipynb`\n",
    "3. Watch the video lecture if you haven't already!"
   ]
  },
  {
   "cell_type": "markdown",
   "id": "fe478635",
   "metadata": {},
   "source": [
    "## Exercises\n",
    "\n",
    "### Exercise 1: User Feature Matrix\n",
    "Create a matrix representing a batch of 5 user feature vectors, where each user is described by [age, city_id, num_friends, avg_daily_minutes]."
   ]
  },
  {
   "cell_type": "code",
   "execution_count": null,
   "id": "d107579c",
   "metadata": {},
   "outputs": [],
   "source": [
    "# Your solution here\n",
    "# Create a matrix with 5 rows (users) and 4 columns (features)\n",
    "# Features: [age, city_id, num_friends, avg_daily_minutes]"
   ]
  },
  {
   "cell_type": "markdown",
   "id": "9300cf63",
   "metadata": {},
   "source": [
    "### Exercise 2: Matrix Slicing\n",
    "Using the matrix from Exercise 1:\n",
    "1. Select the first 3 users\n",
    "2. Select only the age and num_friends columns for all users"
   ]
  },
  {
   "cell_type": "code",
   "execution_count": null,
   "id": "5d2ad268",
   "metadata": {},
   "outputs": [],
   "source": [
    "# Your solution here\n",
    "# 1. Use array slicing to get first 3 users\n",
    "# 2. Use array slicing to select specific columns"
   ]
  },
  {
   "cell_type": "markdown",
   "id": "c0fa297d",
   "metadata": {},
   "source": [
    "### Exercise 3: Boolean Indexing\n",
    "Using the matrix from Exercise 1, use boolean indexing to find all users older than 30."
   ]
  },
  {
   "cell_type": "code",
   "execution_count": null,
   "id": "615d8043",
   "metadata": {},
   "outputs": [],
   "source": [
    "# Your solution here\n",
    "# Use boolean indexing to filter users by age\n",
    "# Hint: Use user_data[:, 0] to get the age column"
   ]
  },
  {
   "cell_type": "markdown",
   "id": "11326ce3",
   "metadata": {},
   "source": [
    "### Exercise 4: Matrix Normalization\n",
    "Create a random 5x5 matrix and \"normalize\" it by:\n",
    "1. Subtracting the mean of the whole matrix from every element\n",
    "2. Dividing by the standard deviation\n",
    "\n",
    "This is a common preprocessing step in machine learning known as standardization."
   ]
  },
  {
   "cell_type": "code",
   "execution_count": null,
   "id": "4588472d",
   "metadata": {},
   "outputs": [],
   "source": [
    "# Your solution here\n",
    "# 1. Create a random 5x5 matrix\n",
    "# 2. Calculate its mean and standard deviation\n",
    "# 3. Normalize it using broadcasting\n",
    "# Hint: Use np.mean() and np.std()"
   ]
  },
  {
   "cell_type": "markdown",
   "id": "3099a0d1",
   "metadata": {},
   "source": [
    "### Exercise 5: Tensor Operations\n",
    "Create a random 3D tensor of shape (32, 32, 3) representing a small color image. Use slicing to set the 'green' channel of the top-left 10x10 pixels to pure green (value 1.0).\n",
    "\n",
    "Bonus: Visualize the image before and after the modification."
   ]
  },
  {
   "cell_type": "code",
   "execution_count": null,
   "id": "23e02e41",
   "metadata": {},
   "outputs": [],
   "source": [
    "# Your solution here\n",
    "# 1. Create a random 32x32x3 tensor\n",
    "# 2. Modify the green channel in the top-left corner\n",
    "# 3. Visualize the results using plt.imshow()\n",
    "# Hint: The green channel is at index 1"
   ]
  }
 ],
 "metadata": {
  "language_info": {
   "name": "python"
  }
 },
 "nbformat": 4,
 "nbformat_minor": 5
}
