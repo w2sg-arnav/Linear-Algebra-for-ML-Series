{
 "cells": [
  {
   "cell_type": "markdown",
   "id": "517ccc11",
   "metadata": {},
   "source": [
    "# Solutions: What is Linear Algebra & Why it Matters for ML?\n",
    "\n",
    "This notebook contains solutions to the practice exercises from Lecture 01."
   ]
  },
  {
   "cell_type": "code",
   "execution_count": null,
   "id": "c3879e5b",
   "metadata": {},
   "outputs": [],
   "source": [
    "import numpy as np\n",
    "\n",
    "# Exercise 1: Create a vector representing a student's grades\n",
    "student_grades = np.array([85, 92, 78, 95, 88])  # Math, Science, History, English, Art\n",
    "print(\"One student's grades:\", student_grades)\n",
    "print(\"Shape:\", student_grades.shape)"
   ]
  },
  {
   "cell_type": "code",
   "execution_count": null,
   "id": "ff2a7263",
   "metadata": {},
   "outputs": [],
   "source": [
    "# Exercise 2: Create a matrix of multiple students' grades\n",
    "class_grades = np.array([\n",
    "    [85, 92, 78, 95, 88],  # Student 1\n",
    "    [79, 85, 93, 87, 91],  # Student 2\n",
    "    [90, 88, 82, 89, 94]   # Student 3\n",
    "])\n",
    "\n",
    "print(\"Class grades:\")\n",
    "print(class_grades)\n",
    "print(\"\\nShape:\", class_grades.shape)"
   ]
  },
  {
   "cell_type": "code",
   "execution_count": null,
   "id": "537c50a8",
   "metadata": {},
   "outputs": [],
   "source": [
    "# Exercise 3: Calculate average grade for each student\n",
    "student_averages = np.mean(class_grades, axis=1)\n",
    "\n",
    "print(\"Average grades:\")\n",
    "for i, avg in enumerate(student_averages, 1):\n",
    "    print(f\"Student {i}: {avg:.2f}\")"
   ]
  },
  {
   "cell_type": "markdown",
   "id": "25a87e41",
   "metadata": {},
   "source": [
    "### Explanation of Solutions\n",
    "\n",
    "1. For Exercise 1, we created a 1D numpy array (vector) with 5 elements representing grades in different subjects.\n",
    "\n",
    "2. For Exercise 2, we created a 2D numpy array (matrix) where:\n",
    "   - Each row represents a different student\n",
    "   - Each column represents a different subject\n",
    "   - The shape (3, 5) indicates 3 students and 5 subjects\n",
    "\n",
    "3. For Exercise 3, we used `np.mean()` with `axis=1` to calculate the mean along each row:\n",
    "   - `axis=1` tells numpy to average across columns (subjects) for each row (student)\n",
    "   - The result is a 1D array with one average grade per student\n",
    "\n",
    "This demonstrates how we can use vectors and matrices to organize and analyze data efficiently!"
   ]
  }
 ],
 "metadata": {
  "language_info": {
   "name": "python"
  }
 },
 "nbformat": 4,
 "nbformat_minor": 5
}
