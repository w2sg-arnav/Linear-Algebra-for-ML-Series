{
 "cells": [
  {
   "cell_type": "markdown",
   "id": "517ccc11",
   "metadata": {},
   "source": [
    "# Linear Algebra for ML - Lecture 1: Solutions\n",
    "\n",
    "This notebook contains solutions to the exercises from Lecture 1. Each solution includes detailed explanations and visualizations where appropriate."
   ]
  },
  {
   "cell_type": "code",
   "execution_count": null,
   "id": "c3879e5b",
   "metadata": {},
   "outputs": [],
   "source": [
    "import numpy as np\n",
    "import matplotlib.pyplot as plt\n",
    "\n",
    "# Set random seed for reproducibility\n",
    "np.random.seed(42)"
   ]
  },
  {
   "cell_type": "code",
   "execution_count": null,
   "id": "ff2a7263",
   "metadata": {},
   "outputs": [],
   "source": [
    "# Exercise 2: Create a matrix of multiple students' grades\n",
    "class_grades = np.array([\n",
    "    [85, 92, 78, 95, 88],  # Student 1\n",
    "    [79, 85, 93, 87, 91],  # Student 2\n",
    "    [90, 88, 82, 89, 94]   # Student 3\n",
    "])\n",
    "\n",
    "print(\"Class grades:\")\n",
    "print(class_grades)\n",
    "print(\"\\nShape:\", class_grades.shape)"
   ]
  },
  {
   "cell_type": "code",
   "execution_count": null,
   "id": "537c50a8",
   "metadata": {},
   "outputs": [],
   "source": [
    "# Exercise 3: Calculate average grade for each student\n",
    "student_averages = np.mean(class_grades, axis=1)\n",
    "\n",
    "print(\"Average grades:\")\n",
    "for i, avg in enumerate(student_averages, 1):\n",
    "    print(f\"Student {i}: {avg:.2f}\")"
   ]
  },
  {
   "cell_type": "markdown",
   "id": "25a87e41",
   "metadata": {},
   "source": [
    "### Explanation of Solutions\n",
    "\n",
    "1. For Exercise 1, we created a 1D numpy array (vector) with 5 elements representing grades in different subjects.\n",
    "\n",
    "2. For Exercise 2, we created a 2D numpy array (matrix) where:\n",
    "   - Each row represents a different student\n",
    "   - Each column represents a different subject\n",
    "   - The shape (3, 5) indicates 3 students and 5 subjects\n",
    "\n",
    "3. For Exercise 3, we used `np.mean()` with `axis=1` to calculate the mean along each row:\n",
    "   - `axis=1` tells numpy to average across columns (subjects) for each row (student)\n",
    "   - The result is a 1D array with one average grade per student\n",
    "\n",
    "This demonstrates how we can use vectors and matrices to organize and analyze data efficiently!"
   ]
  },
  {
   "cell_type": "markdown",
   "id": "af4833a4",
   "metadata": {},
   "source": [
    "### Solution 1: Create User Feature Matrix\n",
    "Let's create a matrix representing 5 users with features [age, city_id, num_friends, avg_daily_minutes]."
   ]
  },
  {
   "cell_type": "code",
   "execution_count": null,
   "id": "563ca4eb",
   "metadata": {},
   "outputs": [],
   "source": [
    "# Create synthetic user data\n",
    "user_data = np.array([\n",
    "    [25, 1, 150, 120],    # User 1: 25 years old, city 1, 150 friends, 120 min/day\n",
    "    [34, 2, 300, 45],     # User 2\n",
    "    [28, 1, 200, 180],    # User 3\n",
    "    [45, 3, 50, 30],      # User 4\n",
    "    [19, 2, 450, 240]     # User 5\n",
    "])\n",
    "\n",
    "print(\"User data shape:\", user_data.shape)\n",
    "print(\"\\nUser data:\\n\", user_data)"
   ]
  },
  {
   "cell_type": "markdown",
   "id": "8651c843",
   "metadata": {},
   "source": [
    "### Solution 2: Matrix Slicing\n",
    "Now we'll demonstrate different ways to slice our user data matrix."
   ]
  },
  {
   "cell_type": "code",
   "execution_count": null,
   "id": "b497bb24",
   "metadata": {},
   "outputs": [],
   "source": [
    "# 1. Get first 3 users\n",
    "first_three = user_data[:3]\n",
    "print(\"First 3 users:\\n\", first_three)\n",
    "\n",
    "# 2. Select age and num_friends columns (indices 0 and 2)\n",
    "age_friends = user_data[:, [0, 2]]\n",
    "print(\"\\nAge and number of friends for all users:\\n\", age_friends)\n",
    "\n",
    "# Verify shapes\n",
    "print(\"\\nShapes:\")\n",
    "print(\"First 3 users:\", first_three.shape)\n",
    "print(\"Age and friends:\", age_friends.shape)"
   ]
  },
  {
   "cell_type": "markdown",
   "id": "b4cdbd01",
   "metadata": {},
   "source": [
    "### Solution 3: Boolean Indexing\n",
    "Let's use boolean indexing to filter our users based on age."
   ]
  },
  {
   "cell_type": "code",
   "execution_count": null,
   "id": "b25e95f2",
   "metadata": {},
   "outputs": [],
   "source": [
    "# Create boolean mask for ages > 30\n",
    "older_than_30_mask = user_data[:, 0] > 30\n",
    "\n",
    "# Show the mask\n",
    "print(\"Age mask (True for users > 30):\", older_than_30_mask)\n",
    "\n",
    "# Apply mask to get users\n",
    "older_users = user_data[older_than_30_mask]\n",
    "print(\"\\nUsers older than 30:\\n\", older_users)\n",
    "\n",
    "# Count how many users match our criteria\n",
    "print(\"\\nNumber of users over 30:\", np.sum(older_than_30_mask))"
   ]
  },
  {
   "cell_type": "markdown",
   "id": "82b9f2b9",
   "metadata": {},
   "source": [
    "### Solution 4: Matrix Normalization\n",
    "Let's create and normalize a random matrix. This is a common preprocessing step in machine learning, often called standardization."
   ]
  },
  {
   "cell_type": "code",
   "execution_count": null,
   "id": "57867da2",
   "metadata": {},
   "outputs": [],
   "source": [
    "# Create random matrix\n",
    "random_matrix = np.random.rand(5, 5)\n",
    "print(\"Original matrix:\\n\", random_matrix)\n",
    "\n",
    "# Calculate mean and standard deviation\n",
    "matrix_mean = np.mean(random_matrix)\n",
    "matrix_std = np.std(random_matrix)\n",
    "\n",
    "# Normalize\n",
    "normalized_matrix = (random_matrix - matrix_mean) / matrix_std\n",
    "\n",
    "print(\"\\nNormalized matrix:\\n\", normalized_matrix)\n",
    "\n",
    "# Verify that normalization worked\n",
    "print(\"\\nVerification:\")\n",
    "print(\"Mean of normalized matrix:\", np.mean(normalized_matrix))\n",
    "print(\"Std of normalized matrix:\", np.std(normalized_matrix))\n",
    "\n",
    "# Visualize the matrices\n",
    "fig, (ax1, ax2) = plt.subplots(1, 2, figsize=(12, 5))\n",
    "\n",
    "im1 = ax1.imshow(random_matrix, cmap='viridis')\n",
    "ax1.set_title('Original Matrix')\n",
    "plt.colorbar(im1, ax=ax1)\n",
    "\n",
    "im2 = ax2.imshow(normalized_matrix, cmap='viridis')\n",
    "ax2.set_title('Normalized Matrix')\n",
    "plt.colorbar(im2, ax=ax2)\n",
    "\n",
    "plt.tight_layout()\n",
    "plt.show()"
   ]
  },
  {
   "cell_type": "markdown",
   "id": "2f5b9ef9",
   "metadata": {},
   "source": [
    "### Solution 5: Tensor Operations\n",
    "Let's create a color image as a 3D tensor and modify its green channel."
   ]
  },
  {
   "cell_type": "code",
   "execution_count": null,
   "id": "0b30898d",
   "metadata": {},
   "outputs": [],
   "source": [
    "# Create random color image\n",
    "image = np.random.rand(32, 32, 3)\n",
    "\n",
    "# Store original for comparison\n",
    "original_image = image.copy()\n",
    "\n",
    "# Set green channel (index 1) to 1.0 for top-left 10x10 pixels\n",
    "image[:10, :10, 1] = 1.0\n",
    "\n",
    "# Visualize the results\n",
    "plt.figure(figsize=(15, 5))\n",
    "\n",
    "plt.subplot(131)\n",
    "plt.imshow(original_image)\n",
    "plt.title('Original Image')\n",
    "\n",
    "plt.subplot(132)\n",
    "plt.imshow(image)\n",
    "plt.title('Modified Image')\n",
    "\n",
    "plt.subplot(133)\n",
    "plt.imshow(image[:,:,1], cmap='Greens')\n",
    "plt.title('Green Channel')\n",
    "\n",
    "plt.tight_layout()\n",
    "plt.show()\n",
    "\n",
    "# Print shapes and unique values\n",
    "print(\"Image shape:\", image.shape)\n",
    "print(\"Unique values in green channel (top-left):\", np.unique(image[:10, :10, 1]))"
   ]
  }
 ],
 "metadata": {
  "language_info": {
   "name": "python"
  }
 },
 "nbformat": 4,
 "nbformat_minor": 5
}
