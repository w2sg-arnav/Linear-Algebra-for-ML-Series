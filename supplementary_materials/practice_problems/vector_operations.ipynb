{
 "cells": [
  {
   "cell_type": "markdown",
   "id": "10b7efa1",
   "metadata": {},
   "source": [
    "# Vector Operations Practice Problems\n",
    "\n",
    "This notebook contains practice problems to reinforce your understanding of vector operations. Each problem is designed to build intuition and practical skills for machine learning applications."
   ]
  },
  {
   "cell_type": "code",
   "execution_count": null,
   "id": "14f6e1d2",
   "metadata": {},
   "outputs": [],
   "source": [
    "import numpy as np\n",
    "import matplotlib.pyplot as plt\n",
    "%matplotlib inline\n",
    "plt.style.use('seaborn')\n",
    "\n",
    "# Helper function for visualization\n",
    "def plot_vectors(*vectors, labels=None):\n",
    "    if labels is None:\n",
    "        labels = [f'v{i+1}' for i in range(len(vectors))]\n",
    "    \n",
    "    plt.figure(figsize=(10, 10))\n",
    "    for v, label in zip(vectors, labels):\n",
    "        plt.quiver(0, 0, v[0], v[1], \n",
    "                  angles='xy', scale_units='xy', scale=1,\n",
    "                  label=label)\n",
    "    \n",
    "    plt.grid(True)\n",
    "    plt.axis('equal')\n",
    "    plt.legend()\n",
    "    plt.show()"
   ]
  },
  {
   "cell_type": "markdown",
   "id": "b70c537b",
   "metadata": {},
   "source": [
    "## Problem Set 1: Basic Vector Operations\n",
    "\n",
    "1. Create a vector [3, 4] and compute its magnitude (expected: 5)\n",
    "2. Create two vectors [1, 2] and [3, 4], then:\n",
    "   - Add them\n",
    "   - Subtract them\n",
    "   - Find their dot product\n",
    "3. Scale a vector [1, 1] by 3 and visualize the result"
   ]
  },
  {
   "cell_type": "code",
   "execution_count": null,
   "id": "4ca8781f",
   "metadata": {},
   "outputs": [],
   "source": [
    "# Your solution here\n"
   ]
  },
  {
   "cell_type": "markdown",
   "id": "cb908e5f",
   "metadata": {},
   "source": [
    "## Problem Set 2: Vector Properties\n",
    "\n",
    "1. Create a unit vector (magnitude 1) in the direction [2, 3]\n",
    "2. Find the angle between vectors [1, 0] and [1, 1]\n",
    "3. Check if two vectors are orthogonal (their dot product should be 0)"
   ]
  },
  {
   "cell_type": "code",
   "execution_count": null,
   "id": "2d7f4f7c",
   "metadata": {},
   "outputs": [],
   "source": [
    "# Your solution here\n"
   ]
  },
  {
   "cell_type": "markdown",
   "id": "081595c1",
   "metadata": {},
   "source": [
    "## Problem Set 3: ML Applications\n",
    "\n",
    "1. Implement cosine similarity between two feature vectors\n",
    "2. Create a function that standardizes a vector (zero mean, unit variance)\n",
    "3. Implement the Manhattan distance between two points"
   ]
  },
  {
   "cell_type": "code",
   "execution_count": null,
   "id": "f0a171ca",
   "metadata": {},
   "outputs": [],
   "source": [
    "# Your solution here\n"
   ]
  },
  {
   "cell_type": "markdown",
   "id": "35e2c236",
   "metadata": {},
   "source": [
    "## Problem Set 4: Real-World Applications\n",
    "\n",
    "1. Represent RGB colors as vectors and:\n",
    "   - Find the average color\n",
    "   - Find the color most similar to a target\n",
    "   - Interpolate between two colors\n",
    "\n",
    "2. Implement a simple document similarity using bag-of-words vectors"
   ]
  },
  {
   "cell_type": "code",
   "execution_count": null,
   "id": "80d0a756",
   "metadata": {},
   "outputs": [],
   "source": [
    "# Your solution here\n"
   ]
  },
  {
   "cell_type": "markdown",
   "id": "6722185b",
   "metadata": {},
   "source": [
    "## Problem Set 5: Advanced Challenges\n",
    "\n",
    "1. Implement Gram-Schmidt orthogonalization for two vectors\n",
    "2. Create a function that finds the vector projection of one vector onto another\n",
    "3. Implement a function to find the closest point on a line to a given point"
   ]
  },
  {
   "cell_type": "code",
   "execution_count": null,
   "id": "66a780fd",
   "metadata": {},
   "outputs": [],
   "source": [
    "# Your solution here\n"
   ]
  }
 ],
 "metadata": {
  "language_info": {
   "name": "python"
  }
 },
 "nbformat": 4,
 "nbformat_minor": 5
}
