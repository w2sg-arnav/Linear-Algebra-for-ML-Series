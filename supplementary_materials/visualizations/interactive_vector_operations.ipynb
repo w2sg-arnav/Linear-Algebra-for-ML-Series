{
 "cells": [
  {
   "cell_type": "markdown",
   "id": "63299f45",
   "metadata": {},
   "source": [
    "# Interactive Vector Operations Visualization Tool\n",
    "\n",
    "This notebook provides interactive visualizations for common vector operations. Use the sliders and controls to explore various vector concepts in real-time."
   ]
  },
  {
   "cell_type": "code",
   "execution_count": null,
   "id": "544a1803",
   "metadata": {},
   "outputs": [],
   "source": [
    "import numpy as np\n",
    "import matplotlib.pyplot as plt\n",
    "from ipywidgets import interactive, widgets\n",
    "%matplotlib inline\n",
    "plt.style.use('seaborn')\n",
    "\n",
    "def plot_vectors(v1, v2, operation='add', scale=1.0):\n",
    "    \"\"\"\n",
    "    Plot vector operations interactively.\n",
    "    Operations: 'add', 'subtract', 'scale', 'dot_product', 'project'\n",
    "    \"\"\"\n",
    "    plt.figure(figsize=(10, 10))\n",
    "    \n",
    "    # Original vectors\n",
    "    vector1 = np.array([v1[0], v1[1]])\n",
    "    vector2 = np.array([v2[0], v2[1]])\n",
    "    \n",
    "    # Plot grid and axes\n",
    "    plt.grid(True)\n",
    "    plt.axhline(y=0, color='k', linestyle=':')\n",
    "    plt.axvline(x=0, color='k', linestyle=':')\n",
    "    \n",
    "    # Plot first vector\n",
    "    plt.quiver(0, 0, vector1[0], vector1[1], angles='xy', scale_units='xy', \n",
    "               scale=1, color='blue', label='v1')\n",
    "    \n",
    "    # Plot second vector\n",
    "    plt.quiver(0, 0, vector2[0], vector2[1], angles='xy', scale_units='xy', \n",
    "               scale=1, color='red', label='v2')\n",
    "    \n",
    "    # Perform and plot the selected operation\n",
    "    if operation == 'add':\n",
    "        result = vector1 + vector2\n",
    "        plt.quiver(0, 0, result[0], result[1], angles='xy', scale_units='xy', \n",
    "                  scale=1, color='purple', label='v1 + v2')\n",
    "        \n",
    "    elif operation == 'subtract':\n",
    "        result = vector1 - vector2\n",
    "        plt.quiver(0, 0, result[0], result[1], angles='xy', scale_units='xy', \n",
    "                  scale=1, color='purple', label='v1 - v2')\n",
    "        \n",
    "    elif operation == 'scale':\n",
    "        result = scale * vector1\n",
    "        plt.quiver(0, 0, result[0], result[1], angles='xy', scale_units='xy', \n",
    "                  scale=1, color='green', label=f'{scale}*v1')\n",
    "        \n",
    "    elif operation == 'project':\n",
    "        # Project v1 onto v2\n",
    "        v2_unit = vector2 / np.linalg.norm(vector2)\n",
    "        proj = np.dot(vector1, v2_unit) * v2_unit\n",
    "        plt.quiver(0, 0, proj[0], proj[1], angles='xy', scale_units='xy', \n",
    "                  scale=1, color='green', label='projection')\n",
    "        plt.plot([vector1[0], proj[0]], [vector1[1], proj[1]], \n",
    "                'k--', alpha=0.3)\n",
    "    \n",
    "    # Add dot product information if selected\n",
    "    if operation == 'dot_product':\n",
    "        dot_prod = np.dot(vector1, vector2)\n",
    "        angle = np.arccos(dot_prod / (np.linalg.norm(vector1) * np.linalg.norm(vector2)))\n",
    "        plt.title(f'Dot Product: {dot_prod:.2f}\\nAngle: {np.degrees(angle):.2f}°')\n",
    "    \n",
    "    plt.xlim(-5, 5)\n",
    "    plt.ylim(-5, 5)\n",
    "    plt.legend()\n",
    "    plt.axis('equal')\n",
    "    plt.show()\n",
    "\n",
    "# Create interactive widgets\n",
    "def interactive_vectors(operation='add'):\n",
    "    v1x = widgets.FloatSlider(min=-3, max=3, step=0.1, value=1, description='v1_x')\n",
    "    v1y = widgets.FloatSlider(min=-3, max=3, step=0.1, value=0, description='v1_y')\n",
    "    v2x = widgets.FloatSlider(min=-3, max=3, step=0.1, value=0, description='v2_x')\n",
    "    v2y = widgets.FloatSlider(min=-3, max=3, step=0.1, value=1, description='v2_y')\n",
    "    scale = widgets.FloatSlider(min=0, max=3, step=0.1, value=1, description='scale')\n",
    "    \n",
    "    if operation == 'scale':\n",
    "        return interactive(plot_vectors, \n",
    "                         v1=(v1x, v1y), \n",
    "                         v2=(v2x, v2y), \n",
    "                         operation=widgets.fixed(operation), \n",
    "                         scale=scale)\n",
    "    else:\n",
    "        return interactive(plot_vectors, \n",
    "                         v1=(v1x, v1y), \n",
    "                         v2=(v2x, v2y), \n",
    "                         operation=widgets.fixed(operation), \n",
    "                         scale=widgets.fixed(1.0))"
   ]
  },
  {
   "cell_type": "markdown",
   "id": "3b68dd7d",
   "metadata": {},
   "source": [
    "## Vector Addition\n",
    "Use the sliders below to explore vector addition:"
   ]
  },
  {
   "cell_type": "code",
   "execution_count": null,
   "id": "6bb50017",
   "metadata": {},
   "outputs": [],
   "source": [
    "interactive_vectors('add')"
   ]
  },
  {
   "cell_type": "markdown",
   "id": "7ea31492",
   "metadata": {},
   "source": [
    "## Vector Subtraction\n",
    "Explore vector subtraction:"
   ]
  },
  {
   "cell_type": "code",
   "execution_count": null,
   "id": "bc99b852",
   "metadata": {},
   "outputs": [],
   "source": [
    "interactive_vectors('subtract')"
   ]
  },
  {
   "cell_type": "markdown",
   "id": "0bfa7b3b",
   "metadata": {},
   "source": [
    "## Scalar Multiplication\n",
    "Adjust the scale factor to see how it affects the vector:"
   ]
  },
  {
   "cell_type": "code",
   "execution_count": null,
   "id": "c93cb3de",
   "metadata": {},
   "outputs": [],
   "source": [
    "interactive_vectors('scale')"
   ]
  },
  {
   "cell_type": "markdown",
   "id": "2c94801a",
   "metadata": {},
   "source": [
    "## Dot Product and Angle\n",
    "See how the dot product changes as you adjust the vectors:"
   ]
  },
  {
   "cell_type": "code",
   "execution_count": null,
   "id": "83c489dc",
   "metadata": {},
   "outputs": [],
   "source": [
    "interactive_vectors('dot_product')"
   ]
  },
  {
   "cell_type": "markdown",
   "id": "e55293d7",
   "metadata": {},
   "source": [
    "## Vector Projection\n",
    "Visualize the projection of one vector onto another:"
   ]
  },
  {
   "cell_type": "code",
   "execution_count": null,
   "id": "17d4c617",
   "metadata": {},
   "outputs": [],
   "source": [
    "interactive_vectors('project')"
   ]
  },
  {
   "cell_type": "markdown",
   "id": "ae937cff",
   "metadata": {},
   "source": [
    "## Exercises\n",
    "\n",
    "1. Use the interactive tools above to find two vectors that are:\n",
    "   - Perpendicular (dot product = 0)\n",
    "   - Parallel (angle = 0°)\n",
    "   - At 45° to each other\n",
    "\n",
    "2. Create vectors v1 and v2 where the projection of v1 onto v2 is:\n",
    "   - Equal to v2\n",
    "   - Half of v2\n",
    "   - Zero\n",
    "\n",
    "Record your findings below:"
   ]
  },
  {
   "cell_type": "code",
   "execution_count": null,
   "id": "44c45a7c",
   "metadata": {},
   "outputs": [],
   "source": [
    "# Your observations here\n"
   ]
  }
 ],
 "metadata": {
  "language_info": {
   "name": "python"
  }
 },
 "nbformat": 4,
 "nbformat_minor": 5
}
