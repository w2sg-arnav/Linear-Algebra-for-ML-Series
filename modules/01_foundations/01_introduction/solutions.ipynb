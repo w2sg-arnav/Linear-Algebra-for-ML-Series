{
 "cells": [
  {
   "cell_type": "markdown",
   "id": "7844a3e0",
   "metadata": {},
   "source": [
    "# Solutions: What is Linear Algebra & Why it Matters for ML?\n",
    "\n",
    "This notebook contains solutions to the practice exercises from Lecture 1."
   ]
  },
  {
   "cell_type": "code",
   "execution_count": null,
   "id": "265d8daa",
   "metadata": {},
   "outputs": [],
   "source": [
    "import numpy as np\n",
    "import matplotlib.pyplot as plt\n",
    "\n",
    "# Configure plotting\n",
    "plt.style.use('seaborn')\n",
    "%matplotlib inline\n",
    "\n",
    "# Exercise 1: Create a vector of student grades\n",
    "student_grades = np.array([95, 87, 92, 78, 85])  # Math, Physics, Chemistry, History, English\n",
    "print(\"One student's grades:\", student_grades)\n",
    "print(\"Shape:\", student_grades.shape)"
   ]
  },
  {
   "cell_type": "code",
   "execution_count": null,
   "id": "d9228597",
   "metadata": {},
   "outputs": [],
   "source": [
    "# Exercise 2: Create a matrix of multiple students' grades\n",
    "class_grades = np.array([\n",
    "    [95, 87, 92, 78, 85],  # Student 1\n",
    "    [88, 90, 85, 92, 87],  # Student 2\n",
    "    [75, 85, 88, 90, 92]   # Student 3\n",
    "])\n",
    "\n",
    "print(\"Class grades matrix:\")\n",
    "print(class_grades)\n",
    "print(\"\\nMatrix shape:\", class_grades.shape)"
   ]
  },
  {
   "cell_type": "code",
   "execution_count": null,
   "id": "d90a43d0",
   "metadata": {},
   "outputs": [],
   "source": [
    "# Exercise 3: Calculate average grade for each student\n",
    "student_averages = np.mean(class_grades, axis=1)\n",
    "\n",
    "print(\"Average grades for each student:\")\n",
    "for i, avg in enumerate(student_averages, 1):\n",
    "    print(f\"Student {i}: {avg:.2f}\")"
   ]
  },
  {
   "cell_type": "code",
   "execution_count": null,
   "id": "ce9d99c7",
   "metadata": {},
   "outputs": [],
   "source": [
    "# Exercise 4: Create and visualize a transformation matrix\n",
    "def visualize_transformation(matrix):\n",
    "    # Create a grid of points\n",
    "    x = np.linspace(-2, 2, 5)\n",
    "    y = np.linspace(-2, 2, 5)\n",
    "    X, Y = np.meshgrid(x, y)\n",
    "    points = np.column_stack((X.flatten(), Y.flatten()))\n",
    "    \n",
    "    # Apply transformation\n",
    "    transformed = points @ matrix.T\n",
    "    \n",
    "    # Plot\n",
    "    plt.figure(figsize=(12, 5))\n",
    "    \n",
    "    plt.subplot(121)\n",
    "    plt.scatter(points[:, 0], points[:, 1], c='blue', alpha=0.6)\n",
    "    plt.grid(True)\n",
    "    plt.title('Original Grid')\n",
    "    plt.axis('equal')\n",
    "    \n",
    "    plt.subplot(122)\n",
    "    plt.scatter(transformed[:, 0], transformed[:, 1], c='red', alpha=0.6)\n",
    "    plt.grid(True)\n",
    "    plt.title('Transformed Grid')\n",
    "    plt.axis('equal')\n",
    "    \n",
    "    plt.show()\n",
    "\n",
    "# Create a scaling matrix that doubles x and halves y\n",
    "scale_matrix = np.array([\n",
    "    [2.0, 0.0],\n",
    "    [0.0, 0.5]\n",
    "])\n",
    "\n",
    "print(\"Transformation matrix:\")\n",
    "print(scale_matrix)\n",
    "visualize_transformation(scale_matrix)"
   ]
  }
 ],
 "metadata": {
  "language_info": {
   "name": "python"
  }
 },
 "nbformat": 4,
 "nbformat_minor": 5
}
