{
 "cells": [
  {
   "cell_type": "markdown",
   "id": "763d02b6",
   "metadata": {},
   "source": [
    "# Lecture 2: Vectors as Data - A Geometric Intuition\n",
    "\n",
    "[![Watch the Video](https://img.shields.io/badge/Watch%20on%20YouTube-FF0000?style=for-the-badge&logo=youtube&logoColor=white)](https://youtube.com/your-channel)\n",
    "\n",
    "Welcome to our second lecture! Today, we'll develop a strong geometric intuition for vectors and see how they naturally represent data in machine learning.\n",
    "\n",
    "## Learning Objectives\n",
    "- Understand vectors both geometrically (as arrows) and numerically (as points)\n",
    "- Master basic vector operations through visual and practical examples\n",
    "- Learn how to implement vector operations efficiently in NumPy\n",
    "- See how real-world data maps to vectors in machine learning"
   ]
  },
  {
   "cell_type": "code",
   "execution_count": null,
   "id": "04eac572",
   "metadata": {},
   "outputs": [],
   "source": [
    "import numpy as np\n",
    "import matplotlib.pyplot as plt\n",
    "from mpl_toolkits.mplot3d import Axes3D\n",
    "import seaborn as sns\n",
    "\n",
    "# Set plotting style\n",
    "plt.style.use('seaborn')\n",
    "%matplotlib inline\n",
    "\n",
    "# Helper function to plot vectors\n",
    "def plot_vector(vector, color='blue', alpha=1.0, label=None):\n",
    "    \"\"\"Plot a 2D vector from the origin\"\"\"\n",
    "    plt.quiver(0, 0, vector[0], vector[1], \n",
    "              angles='xy', scale_units='xy', scale=1,\n",
    "              color=color, alpha=alpha, label=label)"
   ]
  },
  {
   "cell_type": "markdown",
   "id": "3c7a6d13",
   "metadata": {},
   "source": [
    "## 1. Two Ways to Think About Vectors\n",
    "\n",
    "In linear algebra, we can think about vectors in two equivalent ways:\n",
    "1. As **arrows** with direction and magnitude\n",
    "2. As **points** in space\n",
    "\n",
    "Both perspectives are valuable in machine learning:\n",
    "- Arrow perspective: Understanding transformations and directions of change\n",
    "- Point perspective: Representing data points in feature space"
   ]
  },
  {
   "cell_type": "code",
   "execution_count": null,
   "id": "a91a2ba9",
   "metadata": {},
   "outputs": [],
   "source": [
    "# Let's visualize the same vector both ways\n",
    "vector = np.array([3, 2])\n",
    "\n",
    "# Create a figure with two subplots\n",
    "fig, (ax1, ax2) = plt.subplots(1, 2, figsize=(12, 5))\n",
    "\n",
    "# Plot 1: Vector as an arrow\n",
    "ax1.set_title(\"Vector as an Arrow\")\n",
    "ax1.quiver(0, 0, vector[0], vector[1], \n",
    "          angles='xy', scale_units='xy', scale=1,\n",
    "          color='blue', label='v = [3, 2]')\n",
    "ax1.set_xlim(-1, 4)\n",
    "ax1.set_ylim(-1, 3)\n",
    "ax1.grid(True)\n",
    "ax1.axhline(y=0, color='k', linestyle=':')\n",
    "ax1.axvline(x=0, color='k', linestyle=':')\n",
    "ax1.legend()\n",
    "\n",
    "# Plot 2: Vector as a point\n",
    "ax2.set_title(\"Vector as a Point\")\n",
    "ax2.scatter(vector[0], vector[1], color='red', s=100, label='v = [3, 2]')\n",
    "ax2.set_xlim(-1, 4)\n",
    "ax2.set_ylim(-1, 3)\n",
    "ax2.grid(True)\n",
    "ax2.axhline(y=0, color='k', linestyle=':')\n",
    "ax2.axvline(x=0, color='k', linestyle=':')\n",
    "ax2.legend()\n",
    "\n",
    "plt.tight_layout()\n",
    "plt.show()"
   ]
  },
  {
   "cell_type": "markdown",
   "id": "f1b14662",
   "metadata": {},
   "source": [
    "## 2. Vector Operations\n",
    "\n",
    "Let's explore the basic vector operations that form the building blocks of linear algebra:\n",
    "1. Addition and Subtraction\n",
    "2. Scalar Multiplication\n",
    "3. Vector Length (Magnitude)"
   ]
  },
  {
   "cell_type": "code",
   "execution_count": null,
   "id": "990a9fab",
   "metadata": {},
   "outputs": [],
   "source": [
    "# Define two vectors\n",
    "v1 = np.array([2, 1])\n",
    "v2 = np.array([1, 2])\n",
    "\n",
    "# Plot vector addition\n",
    "plt.figure(figsize=(10, 5))\n",
    "plot_vector(v1, color='blue', label='v1')\n",
    "plot_vector(v2, color='red', label='v2')\n",
    "plot_vector(v1 + v2, color='purple', label='v1 + v2')\n",
    "\n",
    "plt.grid(True)\n",
    "plt.axhline(y=0, color='k', linestyle=':')\n",
    "plt.axvline(x=0, color='k', linestyle=':')\n",
    "plt.xlim(-1, 4)\n",
    "plt.ylim(-1, 4)\n",
    "plt.legend()\n",
    "plt.title('Vector Addition')\n",
    "plt.show()\n",
    "\n",
    "# Print numerical results\n",
    "print(\"v1:\", v1)\n",
    "print(\"v2:\", v2)\n",
    "print(\"v1 + v2:\", v1 + v2)\n",
    "print(\"2 * v1:\", 2 * v1)\n",
    "print(\"Length of v1:\", np.linalg.norm(v1))"
   ]
  },
  {
   "cell_type": "markdown",
   "id": "cb8eaf75",
   "metadata": {},
   "source": [
    "## 3. Vectors in Machine Learning\n",
    "\n",
    "In ML, we often represent data points as vectors in high-dimensional space. Let's look at some examples:\n",
    "\n",
    "1. House Features\n",
    "2. Text Documents (Bag of Words)\n",
    "3. Image Pixels"
   ]
  },
  {
   "cell_type": "code",
   "execution_count": null,
   "id": "d7f5e5ab",
   "metadata": {},
   "outputs": [],
   "source": [
    "# Example 1: House Features\n",
    "house_features = np.array([\n",
    "    1500,    # Square footage\n",
    "    3,       # Bedrooms\n",
    "    2,       # Bathrooms\n",
    "    1990,    # Year built\n",
    "    350000   # Price\n",
    "])\n",
    "\n",
    "# Example 2: Simple Bag of Words\n",
    "documents = [\n",
    "    \"the cat sat\",\n",
    "    \"the dog ran\",\n",
    "    \"cat and dog\"\n",
    "]\n",
    "\n",
    "# Create vocabulary\n",
    "vocab = sorted(set(\" \".join(documents).split()))\n",
    "print(\"Vocabulary:\", vocab)\n",
    "\n",
    "# Convert first document to vector\n",
    "def doc_to_vector(doc, vocab):\n",
    "    vector = np.zeros(len(vocab))\n",
    "    for word in doc.split():\n",
    "        if word in vocab:\n",
    "            vector[vocab.index(word)] += 1\n",
    "    return vector\n",
    "\n",
    "doc_vector = doc_to_vector(documents[0], vocab)\n",
    "print(\"\\nDocument 'the cat sat' as vector:\", doc_vector)\n",
    "print(\"Each position corresponds to:\", vocab)"
   ]
  },
  {
   "cell_type": "markdown",
   "id": "3fd60872",
   "metadata": {},
   "source": [
    "## 4. Vector Spaces and Their Properties\n",
    "\n",
    "A vector space is a collection of vectors that satisfy certain properties:\n",
    "1. Closed under addition and scalar multiplication\n",
    "2. Has a zero vector\n",
    "3. Each vector has an additive inverse\n",
    "\n",
    "In ML, our data often lives in the following vector spaces:\n",
    "- ℝ² (2D plane)\n",
    "- ℝ³ (3D space)\n",
    "- ℝⁿ (n-dimensional space)"
   ]
  },
  {
   "cell_type": "code",
   "execution_count": null,
   "id": "c4646ebe",
   "metadata": {},
   "outputs": [],
   "source": [
    "# Visualize vectors in 3D space\n",
    "fig = plt.figure(figsize=(10, 10))\n",
    "ax = fig.add_subplot(111, projection='3d')\n",
    "\n",
    "# Create some 3D vectors\n",
    "v1 = np.array([1, 0, 0])\n",
    "v2 = np.array([0, 1, 0])\n",
    "v3 = np.array([0, 0, 1])\n",
    "\n",
    "# Plot the vectors\n",
    "ax.quiver(0, 0, 0, v1[0], v1[1], v1[2], color='r', label='v1')\n",
    "ax.quiver(0, 0, 0, v2[0], v2[1], v2[2], color='g', label='v2')\n",
    "ax.quiver(0, 0, 0, v3[0], v3[1], v3[2], color='b', label='v3')\n",
    "\n",
    "ax.set_xlabel('X')\n",
    "ax.set_ylabel('Y')\n",
    "ax.set_zlabel('Z')\n",
    "ax.legend()\n",
    "plt.title('Standard Basis Vectors in 3D')\n",
    "plt.show()"
   ]
  },
  {
   "cell_type": "markdown",
   "id": "4bff13d6",
   "metadata": {},
   "source": [
    "## 5. Practice Exercises\n",
    "\n",
    "1. Create two 3D vectors and visualize them\n",
    "2. Implement vector addition and scalar multiplication from scratch (without using NumPy)\n",
    "3. Convert a color image to a vector and back\n",
    "4. Create a function that normalizes a vector (makes its length 1)\n",
    "\n",
    "Write your solutions in the cell below:"
   ]
  },
  {
   "cell_type": "code",
   "execution_count": null,
   "id": "1cf2b1e2",
   "metadata": {},
   "outputs": [],
   "source": [
    "# Your solution here\n"
   ]
  },
  {
   "cell_type": "markdown",
   "id": "7fbe4917",
   "metadata": {},
   "source": [
    "## Next Steps\n",
    "\n",
    "In the next lecture, we'll dive into one of the most important operations in linear algebra and machine learning: the dot product. We'll see how it's used to measure similarity between vectors and its crucial role in neural networks.\n",
    "\n",
    "### Preparation for Next Lecture\n",
    "1. Make sure you're comfortable with basic vector operations\n",
    "2. Think about what it means for two vectors to be \"similar\"\n",
    "3. Review the concept of projection (if you're familiar with it)\n",
    "\n",
    "### Additional Resources\n",
    "- [Interactive Vector Operations Demo](../../resources/visualizations/vector_operations.html)\n",
    "- [Vector Operations Cheat Sheet](../../resources/cheat_sheets/vectors.pdf)\n",
    "- [3Blue1Brown: Vectors](https://www.3blue1brown.com/lessons/vectors)"
   ]
  }
 ],
 "metadata": {
  "language_info": {
   "name": "python"
  }
 },
 "nbformat": 4,
 "nbformat_minor": 5
}
